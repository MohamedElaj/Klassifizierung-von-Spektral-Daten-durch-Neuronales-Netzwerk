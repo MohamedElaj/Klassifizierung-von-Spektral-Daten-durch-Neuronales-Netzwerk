{
  "nbformat": 4,
  "nbformat_minor": 0,
  "metadata": {
    "colab": {
      "provenance": []
    },
    "kernelspec": {
      "name": "python3",
      "display_name": "Python 3"
    },
    "language_info": {
      "name": "python"
    }
  },
  "cells": [
    {
      "cell_type": "code",
      "execution_count": null,
      "metadata": {
        "colab": {
          "base_uri": "https://localhost:8080/"
        },
        "id": "09oZW4AmT_Eh",
        "outputId": "f83d2afe-0579-4c65-85dc-5ac8ab3c3330"
      },
      "outputs": [
        {
          "output_type": "stream",
          "name": "stdout",
          "text": [
            "Requirement already satisfied: tensorflow in /usr/local/lib/python3.10/dist-packages (2.15.0)\n",
            "Requirement already satisfied: absl-py>=1.0.0 in /usr/local/lib/python3.10/dist-packages (from tensorflow) (1.4.0)\n",
            "Requirement already satisfied: astunparse>=1.6.0 in /usr/local/lib/python3.10/dist-packages (from tensorflow) (1.6.3)\n",
            "Requirement already satisfied: flatbuffers>=23.5.26 in /usr/local/lib/python3.10/dist-packages (from tensorflow) (23.5.26)\n",
            "Requirement already satisfied: gast!=0.5.0,!=0.5.1,!=0.5.2,>=0.2.1 in /usr/local/lib/python3.10/dist-packages (from tensorflow) (0.5.4)\n",
            "Requirement already satisfied: google-pasta>=0.1.1 in /usr/local/lib/python3.10/dist-packages (from tensorflow) (0.2.0)\n",
            "Requirement already satisfied: h5py>=2.9.0 in /usr/local/lib/python3.10/dist-packages (from tensorflow) (3.9.0)\n",
            "Requirement already satisfied: libclang>=13.0.0 in /usr/local/lib/python3.10/dist-packages (from tensorflow) (16.0.6)\n",
            "Requirement already satisfied: ml-dtypes~=0.2.0 in /usr/local/lib/python3.10/dist-packages (from tensorflow) (0.2.0)\n",
            "Requirement already satisfied: numpy<2.0.0,>=1.23.5 in /usr/local/lib/python3.10/dist-packages (from tensorflow) (1.25.2)\n",
            "Requirement already satisfied: opt-einsum>=2.3.2 in /usr/local/lib/python3.10/dist-packages (from tensorflow) (3.3.0)\n",
            "Requirement already satisfied: packaging in /usr/local/lib/python3.10/dist-packages (from tensorflow) (23.2)\n",
            "Requirement already satisfied: protobuf!=4.21.0,!=4.21.1,!=4.21.2,!=4.21.3,!=4.21.4,!=4.21.5,<5.0.0dev,>=3.20.3 in /usr/local/lib/python3.10/dist-packages (from tensorflow) (3.20.3)\n",
            "Requirement already satisfied: setuptools in /usr/local/lib/python3.10/dist-packages (from tensorflow) (67.7.2)\n",
            "Requirement already satisfied: six>=1.12.0 in /usr/local/lib/python3.10/dist-packages (from tensorflow) (1.16.0)\n",
            "Requirement already satisfied: termcolor>=1.1.0 in /usr/local/lib/python3.10/dist-packages (from tensorflow) (2.4.0)\n",
            "Requirement already satisfied: typing-extensions>=3.6.6 in /usr/local/lib/python3.10/dist-packages (from tensorflow) (4.9.0)\n",
            "Requirement already satisfied: wrapt<1.15,>=1.11.0 in /usr/local/lib/python3.10/dist-packages (from tensorflow) (1.14.1)\n",
            "Requirement already satisfied: tensorflow-io-gcs-filesystem>=0.23.1 in /usr/local/lib/python3.10/dist-packages (from tensorflow) (0.36.0)\n",
            "Requirement already satisfied: grpcio<2.0,>=1.24.3 in /usr/local/lib/python3.10/dist-packages (from tensorflow) (1.60.1)\n",
            "Requirement already satisfied: tensorboard<2.16,>=2.15 in /usr/local/lib/python3.10/dist-packages (from tensorflow) (2.15.2)\n",
            "Requirement already satisfied: tensorflow-estimator<2.16,>=2.15.0 in /usr/local/lib/python3.10/dist-packages (from tensorflow) (2.15.0)\n",
            "Requirement already satisfied: keras<2.16,>=2.15.0 in /usr/local/lib/python3.10/dist-packages (from tensorflow) (2.15.0)\n",
            "Requirement already satisfied: wheel<1.0,>=0.23.0 in /usr/local/lib/python3.10/dist-packages (from astunparse>=1.6.0->tensorflow) (0.42.0)\n",
            "Requirement already satisfied: google-auth<3,>=1.6.3 in /usr/local/lib/python3.10/dist-packages (from tensorboard<2.16,>=2.15->tensorflow) (2.27.0)\n",
            "Requirement already satisfied: google-auth-oauthlib<2,>=0.5 in /usr/local/lib/python3.10/dist-packages (from tensorboard<2.16,>=2.15->tensorflow) (1.2.0)\n",
            "Requirement already satisfied: markdown>=2.6.8 in /usr/local/lib/python3.10/dist-packages (from tensorboard<2.16,>=2.15->tensorflow) (3.5.2)\n",
            "Requirement already satisfied: requests<3,>=2.21.0 in /usr/local/lib/python3.10/dist-packages (from tensorboard<2.16,>=2.15->tensorflow) (2.31.0)\n",
            "Requirement already satisfied: tensorboard-data-server<0.8.0,>=0.7.0 in /usr/local/lib/python3.10/dist-packages (from tensorboard<2.16,>=2.15->tensorflow) (0.7.2)\n",
            "Requirement already satisfied: werkzeug>=1.0.1 in /usr/local/lib/python3.10/dist-packages (from tensorboard<2.16,>=2.15->tensorflow) (3.0.1)\n",
            "Requirement already satisfied: cachetools<6.0,>=2.0.0 in /usr/local/lib/python3.10/dist-packages (from google-auth<3,>=1.6.3->tensorboard<2.16,>=2.15->tensorflow) (5.3.2)\n",
            "Requirement already satisfied: pyasn1-modules>=0.2.1 in /usr/local/lib/python3.10/dist-packages (from google-auth<3,>=1.6.3->tensorboard<2.16,>=2.15->tensorflow) (0.3.0)\n",
            "Requirement already satisfied: rsa<5,>=3.1.4 in /usr/local/lib/python3.10/dist-packages (from google-auth<3,>=1.6.3->tensorboard<2.16,>=2.15->tensorflow) (4.9)\n",
            "Requirement already satisfied: requests-oauthlib>=0.7.0 in /usr/local/lib/python3.10/dist-packages (from google-auth-oauthlib<2,>=0.5->tensorboard<2.16,>=2.15->tensorflow) (1.3.1)\n",
            "Requirement already satisfied: charset-normalizer<4,>=2 in /usr/local/lib/python3.10/dist-packages (from requests<3,>=2.21.0->tensorboard<2.16,>=2.15->tensorflow) (3.3.2)\n",
            "Requirement already satisfied: idna<4,>=2.5 in /usr/local/lib/python3.10/dist-packages (from requests<3,>=2.21.0->tensorboard<2.16,>=2.15->tensorflow) (3.6)\n",
            "Requirement already satisfied: urllib3<3,>=1.21.1 in /usr/local/lib/python3.10/dist-packages (from requests<3,>=2.21.0->tensorboard<2.16,>=2.15->tensorflow) (2.0.7)\n",
            "Requirement already satisfied: certifi>=2017.4.17 in /usr/local/lib/python3.10/dist-packages (from requests<3,>=2.21.0->tensorboard<2.16,>=2.15->tensorflow) (2024.2.2)\n",
            "Requirement already satisfied: MarkupSafe>=2.1.1 in /usr/local/lib/python3.10/dist-packages (from werkzeug>=1.0.1->tensorboard<2.16,>=2.15->tensorflow) (2.1.5)\n",
            "Requirement already satisfied: pyasn1<0.6.0,>=0.4.6 in /usr/local/lib/python3.10/dist-packages (from pyasn1-modules>=0.2.1->google-auth<3,>=1.6.3->tensorboard<2.16,>=2.15->tensorflow) (0.5.1)\n",
            "Requirement already satisfied: oauthlib>=3.0.0 in /usr/local/lib/python3.10/dist-packages (from requests-oauthlib>=0.7.0->google-auth-oauthlib<2,>=0.5->tensorboard<2.16,>=2.15->tensorflow) (3.2.2)\n"
          ]
        }
      ],
      "source": [
        "pip install tensorflow"
      ]
    },
    {
      "cell_type": "markdown",
      "source": [
        "#Erstellung der DataFrames für die Nutzung des Neuronalen Netzwerks."
      ],
      "metadata": {
        "id": "z4H7eXi3EOaS"
      }
    },
    {
      "cell_type": "code",
      "source": [
        "import matplotlib.pyplot as plt\n",
        "import pandas as pd\n",
        "import numpy as np\n",
        "from google.colab import files\n",
        "import tensorflow as tf\n",
        "from keras.models import Sequential\n",
        "from keras.layers import GRU, Dense, Activation\n",
        "from sklearn import datasets\n",
        "from sklearn.model_selection import train_test_split\n",
        "from sklearn.metrics import accuracy_score, precision_recall_fscore_support"
      ],
      "metadata": {
        "id": "3wNf6U7FnGJ5"
      },
      "execution_count": 2,
      "outputs": []
    },
    {
      "cell_type": "markdown",
      "source": [
        "#Datenmanipulation für das Neuronale Netzwerk."
      ],
      "metadata": {
        "id": "AnC-fYFQD3Da"
      }
    },
    {
      "cell_type": "code",
      "source": [
        "pfad = \"/content/Datensatz1.xlsx\"\n",
        "Datensatz1 = pd.read_excel(pfad)\n",
        "\n",
        "pfad = \"/content/Datensatz3.xlsx\"\n",
        "Datensatz3 = pd.read_excel(pfad)\n",
        "\n",
        "pfad = \"/content/Datensatz4.xlsx\"\n",
        "Datensatz4 = pd.read_excel(pfad)\n",
        "\n",
        "pfad = \"/content/Datensatz5.xlsx\"\n",
        "Datensatz5 = pd.read_excel(pfad)\n",
        "\n",
        "pfad = \"/content/Datensatz6.xlsx\"\n",
        "Datensatz6 = pd.read_excel(pfad)\n",
        "\n",
        "pfad = \"/content/Datensatz_krank.xlsx\"\n",
        "Datensatz_krank = pd.read_excel(pfad)"
      ],
      "metadata": {
        "id": "eFv6FA3FNIys"
      },
      "execution_count": 19,
      "outputs": []
    },
    {
      "cell_type": "code",
      "source": [
        "#Das sind die Ergebnisse die benötigt werden zu jedem Datensatz.\n",
        "ergebnisse = {\n",
        "    'Krankheitszustand': [1, 1, 1, 1, 1, 0]\n",
        "}\n",
        "\n",
        "labels = pd.DataFrame(ergebnisse)"
      ],
      "metadata": {
        "id": "XawlszrtNsgP"
      },
      "execution_count": 20,
      "outputs": []
    },
    {
      "cell_type": "code",
      "source": [
        "# Organisieren der Daten und Labels\n",
        "data_frames = [Datensatz1, Datensatz3, Datensatz4, Datensatz5, Datensatz6, Datensatz_krank]\n",
        "data_with_labels = []\n",
        "\n",
        "for i, df in enumerate(data_frames):\n",
        "    label = labels.loc[i, 'Krankheitszustand']  # Das Label für den aktuellen Datensatz\n",
        "    data_with_labels.append((df, label))"
      ],
      "metadata": {
        "id": "oguWJul0SkyK"
      },
      "execution_count": 21,
      "outputs": []
    },
    {
      "cell_type": "code",
      "source": [
        "# Ausgabe der ersten paar Einträge in data_with_labels\n",
        "for i in range(6):  # Zeige nur die ersten 5 Einträge zur Demonstration\n",
        "    print(\"Datensatz {}: Label - {}\".format(i+1, data_with_labels[i][1]))\n",
        "    print(data_with_labels[i][0])\n",
        "    print()"
      ],
      "metadata": {
        "id": "f6MwpG1sUjXf"
      },
      "execution_count": null,
      "outputs": []
    },
    {
      "cell_type": "code",
      "source": [
        "X_train = np.array([df.values for df, _ in data_with_labels[:5]])  # Extrahieren der Daten aus den DataFrames\n",
        "X_train = X_train[:, :, :3]   # Die ersten drei Spalten werden extrahiert (Frequenz, Amplitude, Phase)\n",
        "y_train = np.array([label for _, label in data_with_labels[:5]])  # Extrahieren der Labels\n",
        "X_test = np.array([Datensatz_krank.values])\n",
        "X_test = X_test[:, :, :3]\n",
        "label_entry = labels['Krankheitszustand'].iloc[5]\n",
        "y_test = np.array(label_entry)"
      ],
      "metadata": {
        "id": "vzXFTXlEVMeF"
      },
      "execution_count": 33,
      "outputs": []
    },
    {
      "cell_type": "code",
      "source": [
        "# Netzwerksparameter\n",
        "input_size = 3\n",
        "hidden_size = 256\n",
        "num_layers = 2\n",
        "num_classes = 1\n",
        "batch_size = 3\n",
        "num_epochs = 50\n",
        "learning_rate = 0.0003\n",
        "threshold = 0.5"
      ],
      "metadata": {
        "id": "GSr0sLJBnqIS"
      },
      "execution_count": 48,
      "outputs": []
    },
    {
      "cell_type": "code",
      "source": [
        "# Modell erstellen\n",
        "model = Sequential([\n",
        "    GRU(hidden_size, input_shape=(301, input_size), return_sequences=True),\n",
        "    GRU(hidden_size, return_sequences=False),\n",
        "    Dense(hidden_size, input_shape=(hidden_size,), activation='relu'),\n",
        "    Dense(num_classes, activation='sigmoid')\n",
        "])"
      ],
      "metadata": {
        "id": "cAAluGBMoRpP"
      },
      "execution_count": 49,
      "outputs": []
    },
    {
      "cell_type": "code",
      "source": [
        "# Loss-Funktion, Optimizer\n",
        "optimizer = tf.keras.optimizers.Adam(learning_rate=learning_rate)\n",
        "model.compile(loss='mse', optimizer=optimizer, metrics=['accuracy'])"
      ],
      "metadata": {
        "id": "M2rULSCToU6x"
      },
      "execution_count": 50,
      "outputs": []
    },
    {
      "cell_type": "code",
      "source": [
        "history = model.fit(X_train, y_train,epochs= num_epochs, batch_size= batch_size)"
      ],
      "metadata": {
        "colab": {
          "base_uri": "https://localhost:8080/"
        },
        "id": "_sIox0kSVUZR",
        "outputId": "796777f5-2e31-4a67-af3c-6e7883bafe0b"
      },
      "execution_count": 51,
      "outputs": [
        {
          "output_type": "stream",
          "name": "stdout",
          "text": [
            "Epoch 1/50\n",
            "2/2 [==============================] - 5s 711ms/step - loss: 0.2147 - accuracy: 0.4000\n",
            "Epoch 2/50\n",
            "2/2 [==============================] - 1s 697ms/step - loss: 0.0163 - accuracy: 1.0000\n",
            "Epoch 3/50\n",
            "2/2 [==============================] - 1s 709ms/step - loss: 0.0019 - accuracy: 1.0000\n",
            "Epoch 4/50\n",
            "2/2 [==============================] - 2s 1s/step - loss: 4.1672e-04 - accuracy: 1.0000\n",
            "Epoch 5/50\n",
            "2/2 [==============================] - 2s 717ms/step - loss: 1.3860e-04 - accuracy: 1.0000\n",
            "Epoch 6/50\n",
            "2/2 [==============================] - 1s 730ms/step - loss: 5.8168e-05 - accuracy: 1.0000\n",
            "Epoch 7/50\n",
            "2/2 [==============================] - 1s 692ms/step - loss: 2.8574e-05 - accuracy: 1.0000\n",
            "Epoch 8/50\n",
            "2/2 [==============================] - 1s 738ms/step - loss: 1.6003e-05 - accuracy: 1.0000\n",
            "Epoch 9/50\n",
            "2/2 [==============================] - 1s 707ms/step - loss: 9.7788e-06 - accuracy: 1.0000\n",
            "Epoch 10/50\n",
            "2/2 [==============================] - 1s 702ms/step - loss: 6.5729e-06 - accuracy: 1.0000\n",
            "Epoch 11/50\n",
            "2/2 [==============================] - 1s 713ms/step - loss: 4.6851e-06 - accuracy: 1.0000\n",
            "Epoch 12/50\n",
            "2/2 [==============================] - 2s 1s/step - loss: 3.5296e-06 - accuracy: 1.0000\n",
            "Epoch 13/50\n",
            "2/2 [==============================] - 2s 963ms/step - loss: 2.7682e-06 - accuracy: 1.0000\n",
            "Epoch 14/50\n",
            "2/2 [==============================] - 1s 692ms/step - loss: 2.2488e-06 - accuracy: 1.0000\n",
            "Epoch 15/50\n",
            "2/2 [==============================] - 1s 701ms/step - loss: 1.8876e-06 - accuracy: 1.0000\n",
            "Epoch 16/50\n",
            "2/2 [==============================] - 1s 684ms/step - loss: 1.6268e-06 - accuracy: 1.0000\n",
            "Epoch 17/50\n",
            "2/2 [==============================] - 1s 676ms/step - loss: 1.4276e-06 - accuracy: 1.0000\n",
            "Epoch 18/50\n",
            "2/2 [==============================] - 1s 684ms/step - loss: 1.2807e-06 - accuracy: 1.0000\n",
            "Epoch 19/50\n",
            "2/2 [==============================] - 1s 709ms/step - loss: 1.1686e-06 - accuracy: 1.0000\n",
            "Epoch 20/50\n",
            "2/2 [==============================] - 1s 676ms/step - loss: 1.0761e-06 - accuracy: 1.0000\n",
            "Epoch 21/50\n",
            "2/2 [==============================] - 2s 1s/step - loss: 1.0041e-06 - accuracy: 1.0000\n",
            "Epoch 22/50\n",
            "2/2 [==============================] - 2s 707ms/step - loss: 9.4662e-07 - accuracy: 1.0000\n",
            "Epoch 23/50\n",
            "2/2 [==============================] - 1s 705ms/step - loss: 8.9898e-07 - accuracy: 1.0000\n",
            "Epoch 24/50\n",
            "2/2 [==============================] - 1s 686ms/step - loss: 8.5793e-07 - accuracy: 1.0000\n",
            "Epoch 25/50\n",
            "2/2 [==============================] - 1s 693ms/step - loss: 8.2370e-07 - accuracy: 1.0000\n",
            "Epoch 26/50\n",
            "2/2 [==============================] - 1s 697ms/step - loss: 7.9388e-07 - accuracy: 1.0000\n",
            "Epoch 27/50\n",
            "2/2 [==============================] - 1s 682ms/step - loss: 7.6957e-07 - accuracy: 1.0000\n",
            "Epoch 28/50\n",
            "2/2 [==============================] - 1s 720ms/step - loss: 7.4634e-07 - accuracy: 1.0000\n",
            "Epoch 29/50\n",
            "2/2 [==============================] - 2s 1s/step - loss: 7.2734e-07 - accuracy: 1.0000\n",
            "Epoch 30/50\n",
            "2/2 [==============================] - 2s 812ms/step - loss: 7.0960e-07 - accuracy: 1.0000\n",
            "Epoch 31/50\n",
            "2/2 [==============================] - 1s 724ms/step - loss: 6.9286e-07 - accuracy: 1.0000\n",
            "Epoch 32/50\n",
            "2/2 [==============================] - 1s 685ms/step - loss: 6.7875e-07 - accuracy: 1.0000\n",
            "Epoch 33/50\n",
            "2/2 [==============================] - 1s 728ms/step - loss: 6.6458e-07 - accuracy: 1.0000\n",
            "Epoch 34/50\n",
            "2/2 [==============================] - 1s 712ms/step - loss: 6.5193e-07 - accuracy: 1.0000\n",
            "Epoch 35/50\n",
            "2/2 [==============================] - 1s 699ms/step - loss: 6.3995e-07 - accuracy: 1.0000\n",
            "Epoch 36/50\n",
            "2/2 [==============================] - 1s 711ms/step - loss: 6.2915e-07 - accuracy: 1.0000\n",
            "Epoch 37/50\n",
            "2/2 [==============================] - 2s 929ms/step - loss: 6.1802e-07 - accuracy: 1.0000\n",
            "Epoch 38/50\n",
            "2/2 [==============================] - 2s 1s/step - loss: 6.0770e-07 - accuracy: 1.0000\n",
            "Epoch 39/50\n",
            "2/2 [==============================] - 1s 702ms/step - loss: 5.9754e-07 - accuracy: 1.0000\n",
            "Epoch 40/50\n",
            "2/2 [==============================] - 1s 688ms/step - loss: 5.8808e-07 - accuracy: 1.0000\n",
            "Epoch 41/50\n",
            "2/2 [==============================] - 1s 685ms/step - loss: 5.7868e-07 - accuracy: 1.0000\n",
            "Epoch 42/50\n",
            "2/2 [==============================] - 1s 683ms/step - loss: 5.6936e-07 - accuracy: 1.0000\n",
            "Epoch 43/50\n",
            "2/2 [==============================] - 1s 711ms/step - loss: 5.6079e-07 - accuracy: 1.0000\n",
            "Epoch 44/50\n",
            "2/2 [==============================] - 1s 696ms/step - loss: 5.5185e-07 - accuracy: 1.0000\n",
            "Epoch 45/50\n",
            "2/2 [==============================] - 1s 720ms/step - loss: 5.4339e-07 - accuracy: 1.0000\n",
            "Epoch 46/50\n",
            "2/2 [==============================] - 2s 1s/step - loss: 5.3493e-07 - accuracy: 1.0000\n",
            "Epoch 47/50\n",
            "2/2 [==============================] - 2s 678ms/step - loss: 5.2660e-07 - accuracy: 1.0000\n",
            "Epoch 48/50\n",
            "2/2 [==============================] - 1s 705ms/step - loss: 5.1875e-07 - accuracy: 1.0000\n",
            "Epoch 49/50\n",
            "2/2 [==============================] - 1s 680ms/step - loss: 5.1071e-07 - accuracy: 1.0000\n",
            "Epoch 50/50\n",
            "2/2 [==============================] - 1s 696ms/step - loss: 5.0287e-07 - accuracy: 1.0000\n"
          ]
        }
      ]
    },
    {
      "cell_type": "code",
      "source": [
        "# Plotten die Veränderung der Loss abhängig von Epoch.\n",
        "plt.plot(history.history['loss'], label='Trainingsverlust')\n",
        "plt.xlabel('Epochen')\n",
        "plt.ylabel('Verlust')\n",
        "plt.title('Verlust während des Trainings')\n",
        "plt.legend()\n",
        "plt.show()"
      ],
      "metadata": {
        "colab": {
          "base_uri": "https://localhost:8080/",
          "height": 472
        },
        "id": "kPaV-cDOhXtb",
        "outputId": "f24331c4-7d9e-44b6-b480-d05f8410a24e"
      },
      "execution_count": 53,
      "outputs": [
        {
          "output_type": "display_data",
          "data": {
            "text/plain": [
              "<Figure size 640x480 with 1 Axes>"
            ],
            "image/png": "[encoded data removed]"
          },
          "metadata": {}
        }
      ]
    },
    {
      "cell_type": "code",
      "source": [
        "plt.plot(history.history['accuracy'], label='Trainingsgenauigkeit')\n",
        "#plt.plot(history.history['val_accuracy'], label='Validierungsgenauigkeit')\n",
        "plt.xlabel('Epochen')\n",
        "plt.ylabel('Accuracy')\n",
        "plt.title('Genauigkeit während des Trainings')\n",
        "plt.legend()\n",
        "plt.show()"
      ],
      "metadata": {
        "colab": {
          "base_uri": "https://localhost:8080/",
          "height": 472
        },
        "id": "bsN9PmX8cxf9",
        "outputId": "2c120b4a-6edf-47cd-e971-eca1d31086f1"
      },
      "execution_count": 54,
      "outputs": [
        {
          "output_type": "display_data",
          "data": {
            "text/plain": [
              "<Figure size 640x480 with 1 Axes>"
            ],
            "image/png": "[encoded data removed]"
          },
          "metadata": {}
        }
      ]
    },
    {
      "cell_type": "code",
      "source": [
        "result = model.evaluate(X_train, y_train)\n",
        "loss, accuracy = result  # Hier wird das Tupel aufgelöst\n",
        "print(f\"Test Loss: {loss}, Test Accuracy: {accuracy}\")"
      ],
      "metadata": {
        "colab": {
          "base_uri": "https://localhost:8080/"
        },
        "id": "vHQDfzfqob0s",
        "outputId": "a76189d7-d732-4813-add8-632f2aded875"
      },
      "execution_count": 55,
      "outputs": [
        {
          "output_type": "stream",
          "name": "stdout",
          "text": [
            "1/1 [==============================] - 1s 887ms/step - loss: 4.9663e-07 - accuracy: 1.0000\n",
            "Test Loss: 4.966333904121711e-07, Test Accuracy: 1.0\n"
          ]
        }
      ]
    },
    {
      "cell_type": "code",
      "source": [
        "# Vorhersage machen. Das sind die Outputs für die Vorhersage von X_test.\n",
        "binäre_vorhersage = (model.predict(X_test) > threshold).astype(int)\n",
        "class_labels = np.where(binäre_vorhersage == 1, \"Gesund\", \"Krank\")\n",
        "print(class_labels)"
      ],
      "metadata": {
        "id": "ADzPvsCoibh3",
        "colab": {
          "base_uri": "https://localhost:8080/"
        },
        "outputId": "5873eb44-a3a1-4a64-e5dd-8d0d2c65f14a"
      },
      "execution_count": 58,
      "outputs": [
        {
          "output_type": "stream",
          "name": "stdout",
          "text": [
            "1/1 [==============================] - 0s 75ms/step\n",
            "[['Gesund']]\n"
          ]
        }
      ]
    },
    {
      "cell_type": "markdown",
      "source": [
        "Nach der Vorhersage, ermittelt wird wie Präzise das Neuronale Netzwerk den Output vorhergesagt hat. Dazu bedienen wir uns unterschiedliche Metriken, wie:\n",
        "\n",
        "\n",
        "1.   Accuracy\n",
        "2.   Precision\n",
        "3.   Recall\n",
        "4.   F1-Score\n",
        "\n",
        "Das Problem ist jedoch, dass wir keine Sammlung von y_test haben sondern nur eine einzelne Vorhersage. Damit können diese unterschiedlichen Metriken nicht verwendet werden."
      ],
      "metadata": {
        "id": "5Zf9fPN7oRdd"
      }
    },
    {
      "cell_type": "code",
      "source": [
        "# Berechne die Genauigkeit\n",
        "accuracy = accuracy_score(y_test, binäre_vorhersage)\n",
        "print(\"Genauigkeit auf Testdaten:\", accuracy)"
      ],
      "metadata": {
        "id": "c-b7ZnH8b4IZ"
      },
      "execution_count": null,
      "outputs": []
    },
    {
      "cell_type": "code",
      "source": [
        "# Berechne Precision, Recall und F1-Score\n",
        "precision, recall, f1_score, _ = precision_recall_fscore_support(y_test, binäre_vorhersage, average='binary')\n",
        "\n",
        "print(\"Precision:\", precision)\n",
        "print(\"Recall:\", recall)\n",
        "print(\"F1-Score:\", f1_score)"
      ],
      "metadata": {
        "id": "TqY4zJENe8mW"
      },
      "execution_count": null,
      "outputs": []
    },
    {
      "cell_type": "code",
      "source": [
        "# Vorhersage Plotten!!!\n",
        "plt.scatter(X_test[:, 0], X_test[:, 1], c=binäre_vorhersage, cmap='viridis', label=class_labels)\n",
        "plt.xlabel('Amplitude')\n",
        "plt.ylabel('Frequenz')\n",
        "plt.title('Binary Classification')\n",
        "#plt.legend([\"Gesund\", \"Krank\"])\n",
        "plt.show()"
      ],
      "metadata": {
        "id": "DJ55-oLJvSol"
      },
      "execution_count": null,
      "outputs": []
    },
    {
      "cell_type": "code",
      "source": [
        "from google.colab import drive\n",
        "drive.mount('/content/drive')"
      ],
      "metadata": {
        "id": "MVBUZDGDd3BE"
      },
      "execution_count": null,
      "outputs": []
    }
  ]
}