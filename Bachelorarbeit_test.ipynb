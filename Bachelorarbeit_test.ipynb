{
  "nbformat": 4,
  "nbformat_minor": 0,
  "metadata": {
    "colab": {
      "provenance": [],
      "authorship_tag": "ABX9TyOpNMownrwN6OI0zEHiRGYN"
    },
    "kernelspec": {
      "name": "python3",
      "display_name": "Python 3"
    },
    "language_info": {
      "name": "python"
    }
  },
  "cells": [
    {
      "cell_type": "code",
      "execution_count": null,
      "metadata": {
        "colab": {
          "base_uri": "https://localhost:8080/"
        },
        "id": "e_lMD1uNm-T7",
        "outputId": "800e3487-83d9-42f3-b907-309e31b152f3"
      },
      "outputs": [
        {
          "output_type": "stream",
          "name": "stdout",
          "text": [
            "Requirement already satisfied: tensorflow in /usr/local/lib/python3.10/dist-packages (2.15.0)\n",
            "Requirement already satisfied: absl-py>=1.0.0 in /usr/local/lib/python3.10/dist-packages (from tensorflow) (1.4.0)\n",
            "Requirement already satisfied: astunparse>=1.6.0 in /usr/local/lib/python3.10/dist-packages (from tensorflow) (1.6.3)\n",
            "Requirement already satisfied: flatbuffers>=23.5.26 in /usr/local/lib/python3.10/dist-packages (from tensorflow) (23.5.26)\n",
            "Requirement already satisfied: gast!=0.5.0,!=0.5.1,!=0.5.2,>=0.2.1 in /usr/local/lib/python3.10/dist-packages (from tensorflow) (0.5.4)\n",
            "Requirement already satisfied: google-pasta>=0.1.1 in /usr/local/lib/python3.10/dist-packages (from tensorflow) (0.2.0)\n",
            "Requirement already satisfied: h5py>=2.9.0 in /usr/local/lib/python3.10/dist-packages (from tensorflow) (3.9.0)\n",
            "Requirement already satisfied: libclang>=13.0.0 in /usr/local/lib/python3.10/dist-packages (from tensorflow) (16.0.6)\n",
            "Requirement already satisfied: ml-dtypes~=0.2.0 in /usr/local/lib/python3.10/dist-packages (from tensorflow) (0.2.0)\n",
            "Requirement already satisfied: numpy<2.0.0,>=1.23.5 in /usr/local/lib/python3.10/dist-packages (from tensorflow) (1.23.5)\n",
            "Requirement already satisfied: opt-einsum>=2.3.2 in /usr/local/lib/python3.10/dist-packages (from tensorflow) (3.3.0)\n",
            "Requirement already satisfied: packaging in /usr/local/lib/python3.10/dist-packages (from tensorflow) (23.2)\n",
            "Requirement already satisfied: protobuf!=4.21.0,!=4.21.1,!=4.21.2,!=4.21.3,!=4.21.4,!=4.21.5,<5.0.0dev,>=3.20.3 in /usr/local/lib/python3.10/dist-packages (from tensorflow) (3.20.3)\n",
            "Requirement already satisfied: setuptools in /usr/local/lib/python3.10/dist-packages (from tensorflow) (67.7.2)\n",
            "Requirement already satisfied: six>=1.12.0 in /usr/local/lib/python3.10/dist-packages (from tensorflow) (1.16.0)\n",
            "Requirement already satisfied: termcolor>=1.1.0 in /usr/local/lib/python3.10/dist-packages (from tensorflow) (2.4.0)\n",
            "Requirement already satisfied: typing-extensions>=3.6.6 in /usr/local/lib/python3.10/dist-packages (from tensorflow) (4.5.0)\n",
            "Requirement already satisfied: wrapt<1.15,>=1.11.0 in /usr/local/lib/python3.10/dist-packages (from tensorflow) (1.14.1)\n",
            "Requirement already satisfied: tensorflow-io-gcs-filesystem>=0.23.1 in /usr/local/lib/python3.10/dist-packages (from tensorflow) (0.35.0)\n",
            "Requirement already satisfied: grpcio<2.0,>=1.24.3 in /usr/local/lib/python3.10/dist-packages (from tensorflow) (1.60.0)\n",
            "Requirement already satisfied: tensorboard<2.16,>=2.15 in /usr/local/lib/python3.10/dist-packages (from tensorflow) (2.15.1)\n",
            "Requirement already satisfied: tensorflow-estimator<2.16,>=2.15.0 in /usr/local/lib/python3.10/dist-packages (from tensorflow) (2.15.0)\n",
            "Requirement already satisfied: keras<2.16,>=2.15.0 in /usr/local/lib/python3.10/dist-packages (from tensorflow) (2.15.0)\n",
            "Requirement already satisfied: wheel<1.0,>=0.23.0 in /usr/local/lib/python3.10/dist-packages (from astunparse>=1.6.0->tensorflow) (0.42.0)\n",
            "Requirement already satisfied: google-auth<3,>=1.6.3 in /usr/local/lib/python3.10/dist-packages (from tensorboard<2.16,>=2.15->tensorflow) (2.17.3)\n",
            "Requirement already satisfied: google-auth-oauthlib<2,>=0.5 in /usr/local/lib/python3.10/dist-packages (from tensorboard<2.16,>=2.15->tensorflow) (1.2.0)\n",
            "Requirement already satisfied: markdown>=2.6.8 in /usr/local/lib/python3.10/dist-packages (from tensorboard<2.16,>=2.15->tensorflow) (3.5.2)\n",
            "Requirement already satisfied: requests<3,>=2.21.0 in /usr/local/lib/python3.10/dist-packages (from tensorboard<2.16,>=2.15->tensorflow) (2.31.0)\n",
            "Requirement already satisfied: tensorboard-data-server<0.8.0,>=0.7.0 in /usr/local/lib/python3.10/dist-packages (from tensorboard<2.16,>=2.15->tensorflow) (0.7.2)\n",
            "Requirement already satisfied: werkzeug>=1.0.1 in /usr/local/lib/python3.10/dist-packages (from tensorboard<2.16,>=2.15->tensorflow) (3.0.1)\n",
            "Requirement already satisfied: cachetools<6.0,>=2.0.0 in /usr/local/lib/python3.10/dist-packages (from google-auth<3,>=1.6.3->tensorboard<2.16,>=2.15->tensorflow) (5.3.2)\n",
            "Requirement already satisfied: pyasn1-modules>=0.2.1 in /usr/local/lib/python3.10/dist-packages (from google-auth<3,>=1.6.3->tensorboard<2.16,>=2.15->tensorflow) (0.3.0)\n",
            "Requirement already satisfied: rsa<5,>=3.1.4 in /usr/local/lib/python3.10/dist-packages (from google-auth<3,>=1.6.3->tensorboard<2.16,>=2.15->tensorflow) (4.9)\n",
            "Requirement already satisfied: requests-oauthlib>=0.7.0 in /usr/local/lib/python3.10/dist-packages (from google-auth-oauthlib<2,>=0.5->tensorboard<2.16,>=2.15->tensorflow) (1.3.1)\n",
            "Requirement already satisfied: charset-normalizer<4,>=2 in /usr/local/lib/python3.10/dist-packages (from requests<3,>=2.21.0->tensorboard<2.16,>=2.15->tensorflow) (3.3.2)\n",
            "Requirement already satisfied: idna<4,>=2.5 in /usr/local/lib/python3.10/dist-packages (from requests<3,>=2.21.0->tensorboard<2.16,>=2.15->tensorflow) (3.6)\n",
            "Requirement already satisfied: urllib3<3,>=1.21.1 in /usr/local/lib/python3.10/dist-packages (from requests<3,>=2.21.0->tensorboard<2.16,>=2.15->tensorflow) (2.0.7)\n",
            "Requirement already satisfied: certifi>=2017.4.17 in /usr/local/lib/python3.10/dist-packages (from requests<3,>=2.21.0->tensorboard<2.16,>=2.15->tensorflow) (2023.11.17)\n",
            "Requirement already satisfied: MarkupSafe>=2.1.1 in /usr/local/lib/python3.10/dist-packages (from werkzeug>=1.0.1->tensorboard<2.16,>=2.15->tensorflow) (2.1.4)\n",
            "Requirement already satisfied: pyasn1<0.6.0,>=0.4.6 in /usr/local/lib/python3.10/dist-packages (from pyasn1-modules>=0.2.1->google-auth<3,>=1.6.3->tensorboard<2.16,>=2.15->tensorflow) (0.5.1)\n",
            "Requirement already satisfied: oauthlib>=3.0.0 in /usr/local/lib/python3.10/dist-packages (from requests-oauthlib>=0.7.0->google-auth-oauthlib<2,>=0.5->tensorboard<2.16,>=2.15->tensorflow) (3.2.2)\n"
          ]
        }
      ],
      "source": [
        "pip install tensorflow"
      ]
    },
    {
      "cell_type": "code",
      "source": [
        "import matplotlib.pyplot as plt\n",
        "import pandas as pd\n",
        "import numpy as np\n",
        "from google.colab import files\n",
        "import tensorflow as tf\n",
        "from keras.models import Sequential\n",
        "from keras.layers import GRU, Dense, Activation, Masking\n",
        "from sklearn import datasets"
      ],
      "metadata": {
        "id": "3wNf6U7FnGJ5"
      },
      "execution_count": null,
      "outputs": []
    },
    {
      "cell_type": "code",
      "source": [
        "# Extrahieren die Datensätze für die Nutzung. Vorher müssen die Daten in den Ordner Content eingefügt werden.\n",
        "pfad = \"/content/Blutprobe0.xlsx\"\n",
        "Blutprobe0 = pd.read_excel(pfad)\n",
        "\n",
        "pfad = \"/content/Blutprobe01.xlsx\"\n",
        "Blutprobe01 = pd.read_excel(pfad)\n",
        "\n",
        "pfad = \"/content/Blutprobe02.xlsx\"\n",
        "Blutprobe02 = pd.read_excel(pfad)\n",
        "\n",
        "pfad = \"/content/Blutprobe05.xlsx\"\n",
        "Blutprobe05 = pd.read_excel(pfad)\n",
        "\n",
        "pfad = \"/content/Blutprobe5.xlsx\"\n",
        "Blutprobe5 = pd.read_excel(pfad)"
      ],
      "metadata": {
        "id": "CZC9TqYj2AdO"
      },
      "execution_count": null,
      "outputs": []
    },
    {
      "cell_type": "code",
      "source": [
        "#Das sind die Ergebnisse die benötigt werden zu jedem Datensatz.\n",
        "ergebnisse = {\n",
        "    'Krankheitszustand': [1, 0, 0, 0, 0]\n",
        "}\n",
        "\n",
        "labels = pd.DataFrame(ergebnisse)"
      ],
      "metadata": {
        "id": "zGULSZOW2fX3"
      },
      "execution_count": null,
      "outputs": []
    },
    {
      "cell_type": "code",
      "source": [
        "# Organisieren der Daten und Labels. Verknüpfen die Datensätze jeweils mit einem Label.\n",
        "data_frames = [Blutprobe0, Blutprobe01, Blutprobe02, Blutprobe05, Blutprobe5]\n",
        "data_with_labels = []\n",
        "\n",
        "for i, df in enumerate(data_frames):\n",
        "    label = labels.loc[i, 'Krankheitszustand']  # Das Label für den aktuellen Datensatz\n",
        "    data_with_labels.append((df, label))"
      ],
      "metadata": {
        "id": "s8sT65VI2iNx"
      },
      "execution_count": null,
      "outputs": []
    },
    {
      "cell_type": "code",
      "source": [
        "# Ausgabe der ersten paar Einträge in data_with_labels\n",
        "for i in range(5):  # Zeige nur die ersten 5 Einträge zur Demonstration\n",
        "    print(\"Datensatz {}: Label - {}\".format(i+1, data_with_labels[i][1]))\n",
        "    print(data_with_labels[i][0])\n",
        "    print()"
      ],
      "metadata": {
        "collapsed": true,
        "colab": {
          "base_uri": "https://localhost:8080/"
        },
        "id": "Xsqe-1082kBo",
        "outputId": "f35e5316-cfd1-44d6-df57-67c44ec8b527"
      },
      "execution_count": null,
      "outputs": [
        {
          "output_type": "stream",
          "name": "stdout",
          "text": [
            "Datensatz 1: Label - 1\n",
            "       Frequenz  Amplitude       Phase  Unbekannt  Unbekannt.1  Unbekannt.2  \\\n",
            "0         12.50   0.033805   37.189231   0.159952   -74.135047     0.211345   \n",
            "1         12.52   0.038209  -79.949534   0.191839  -243.846252     0.199172   \n",
            "2         12.54   0.042465 -103.084784   0.199872    74.089905     0.212459   \n",
            "3         12.56   0.040868 -208.119583   0.183590   -60.300880     0.222604   \n",
            "4         12.58   0.038928 -172.454253   0.175801   -54.756824     0.221434   \n",
            "...         ...        ...         ...        ...          ...          ...   \n",
            "12035      0.00   0.000000    0.000000   0.000000     0.000000     0.000000   \n",
            "12036      0.00   0.000000    0.000000   0.000000     0.000000     0.000000   \n",
            "12037      0.00   0.000000    0.000000   0.000000     0.000000     0.000000   \n",
            "12038      0.00   0.000000    0.000000   0.000000     0.000000     0.000000   \n",
            "12039      0.00   0.000000    0.000000   0.000000     0.000000     0.000000   \n",
            "\n",
            "       Unbekannt.3  Unbekannt.4  \n",
            "0       248.675722  -111.324278  \n",
            "1       196.103283  -163.896717  \n",
            "2       177.174689   177.174689  \n",
            "3       147.818703   147.818703  \n",
            "4       117.697430   117.697430  \n",
            "...            ...          ...  \n",
            "12035     0.000000     0.000000  \n",
            "12036     0.000000     0.000000  \n",
            "12037     0.000000     0.000000  \n",
            "12038     0.000000     0.000000  \n",
            "12039     0.000000     0.000000  \n",
            "\n",
            "[12040 rows x 8 columns]\n",
            "\n",
            "Datensatz 2: Label - 0\n",
            "       Frequenz  Amplitude       Phase  Unbekannt  Unbekannt.1  Unbekannt.2  \\\n",
            "0         12.50   0.029035  141.180152   0.148440    18.825602     0.195603   \n",
            "1         12.52   0.044531  137.957434   0.179882   -12.160373     0.247555   \n",
            "2         12.54   0.041401   10.773507   0.184197  -179.066030     0.224766   \n",
            "3         12.56   0.038474 -249.169788   0.170577   252.328333     0.225552   \n",
            "4         12.58   0.037815 -161.741492   0.168347   -51.432966     0.224624   \n",
            "...         ...        ...         ...        ...          ...          ...   \n",
            "12035     18.42   0.094208  172.356285   0.747224    49.356472     0.126078   \n",
            "12036     18.44   0.100858 -174.806812   0.757083    27.215652     0.133220   \n",
            "12037     18.46   0.100603  229.907425   0.788996    38.348908     0.127507   \n",
            "12038     18.48   0.090762  243.766493   0.808910    41.375588     0.112202   \n",
            "12039     18.50   0.133678  -98.726848   0.780204    31.605696     0.171337   \n",
            "\n",
            "       Unbekannt.3  Unbekannt.4  \n",
            "0       237.645451  -122.354550  \n",
            "1       209.882192  -150.117808  \n",
            "2       170.160463  -189.839537  \n",
            "3       141.498121   501.498121  \n",
            "4       110.308526   110.308526  \n",
            "...            ...          ...  \n",
            "12035   237.000187  -122.999813  \n",
            "12036   202.022464   202.022464  \n",
            "12037   168.441483  -191.558517  \n",
            "12038   157.609094  -202.390906  \n",
            "12039   130.332544   130.332544  \n",
            "\n",
            "[12040 rows x 8 columns]\n",
            "\n",
            "Datensatz 3: Label - 0\n",
            "       Frequenz  Amplitude       Phase  Unbekannt  Unbekannt.1  Unbekannt.2  \\\n",
            "0         12.50   0.037484  -51.921743   0.151270  -172.139924     0.247798   \n",
            "1         12.52   0.041118  -74.687785   0.182489   133.165826     0.225320   \n",
            "2         12.54   0.044560   10.101773   0.192166  -179.714171     0.231883   \n",
            "3         12.56   0.040855  -47.970356   0.175621   100.488105     0.232633   \n",
            "4         12.58   0.038283 -226.338730   0.170837  -110.052849     0.224089   \n",
            "...         ...        ...         ...        ...          ...          ...   \n",
            "12035     18.42   0.099713 -222.097166   0.756925     3.889300     0.131734   \n",
            "12036     18.44   0.108526  228.237075   0.777631    60.708166     0.139560   \n",
            "12037     18.46   0.108052 -142.515923   0.804898    17.874593     0.134243   \n",
            "12038     18.48   0.093282 -113.956624   0.825389    34.565576     0.113016   \n",
            "12039     18.50   0.135993  269.111095   0.795283    34.634896     0.170999   \n",
            "\n",
            "       Unbekannt.3  Unbekannt.4  \n",
            "0       239.781820  -120.218181  \n",
            "1       207.853611   207.853611  \n",
            "2       170.184056  -189.815944  \n",
            "3       148.458461   148.458461  \n",
            "4       116.285881   116.285881  \n",
            "...            ...          ...  \n",
            "12035   225.986465   225.986465  \n",
            "12036   192.471091  -167.528909  \n",
            "12037   160.390517   160.390517  \n",
            "12038   148.522200   148.522200  \n",
            "12039   125.523801  -234.476199  \n",
            "\n",
            "[12040 rows x 8 columns]\n",
            "\n",
            "Datensatz 4: Label - 0\n",
            "       Frequenz  Amplitude       Phase  Unbekannt  Unbekannt.1  Unbekannt.2  \\\n",
            "0         12.50   0.037167   16.330861   0.147743   -76.583214     0.251567   \n",
            "1         12.52   0.039084  181.187991   0.182660    42.412723     0.213970   \n",
            "2         12.54   0.043642   22.296195   0.189034  -156.934140     0.230869   \n",
            "3         12.56   0.041410  108.190740   0.171114   258.931998     0.242005   \n",
            "4         12.58   0.039490   27.506050   0.168488  -212.293808     0.234382   \n",
            "...         ...        ...         ...        ...          ...          ...   \n",
            "12035     18.42   0.104614  137.114628   0.741490    14.581256     0.141086   \n",
            "12036     18.44   0.111805 -196.069116   0.760746     6.381078     0.146968   \n",
            "12037     18.46   0.110611  235.317960   0.790539    45.499471     0.139919   \n",
            "12038     18.48   0.101908 -118.334897   0.813579    40.740628     0.125259   \n",
            "12039     18.50   0.143100  -90.304850   0.782050    42.145719     0.182980   \n",
            "\n",
            "       Unbekannt.3  Unbekannt.4  \n",
            "0       267.085925   -92.914075  \n",
            "1       221.224732  -138.775268  \n",
            "2       180.769664  -179.230336  \n",
            "3       150.741258   150.741258  \n",
            "4       120.200142  -239.799858  \n",
            "...            ...          ...  \n",
            "12035   237.466627  -122.533372  \n",
            "12036   202.450194   202.450194  \n",
            "12037   170.181511  -189.818489  \n",
            "12038   159.075525   159.075525  \n",
            "12039   132.450570   132.450570  \n",
            "\n",
            "[12040 rows x 8 columns]\n",
            "\n",
            "Datensatz 5: Label - 0\n",
            "       Frequenz  Amplitude       Phase  Unbekannt  Unbekannt.1  Unbekannt.2  \\\n",
            "0         12.50   0.036604  -51.994941   0.144761   189.766543     0.252861   \n",
            "1         12.52   0.045448  -15.275167   0.183750   184.446136     0.247334   \n",
            "2         12.54   0.047609 -178.555937   0.186423    -7.471443     0.255380   \n",
            "3         12.56   0.042418   10.676835   0.170906   157.056651     0.248193   \n",
            "4         12.58   0.040777  -96.620344   0.167994    20.526837     0.242727   \n",
            "...         ...        ...         ...        ...          ...          ...   \n",
            "12035     18.42   0.094446 -206.189210   0.741477    34.821979     0.127375   \n",
            "12036     18.44   0.100630 -175.398013   0.755602    29.666990     0.133179   \n",
            "12037     18.46   0.099705  232.930633   0.784754    45.721716     0.127053   \n",
            "12038     18.48   0.092696 -120.253565   0.809365    41.787577     0.114529   \n",
            "12039     18.50   0.136335  261.149253   0.779626    36.679325     0.174873   \n",
            "\n",
            "       Unbekannt.3  Unbekannt.4  \n",
            "0       241.761484   241.761484  \n",
            "1       199.721303   199.721303  \n",
            "2       171.084494   171.084494  \n",
            "3       146.379816   146.379816  \n",
            "4       117.147181   117.147181  \n",
            "...            ...          ...  \n",
            "12035   241.011188   241.011188  \n",
            "12036   205.065003   205.065003  \n",
            "12037   172.791084  -187.208916  \n",
            "12038   162.041141   162.041141  \n",
            "12039   135.530073  -224.469927  \n",
            "\n",
            "[12040 rows x 8 columns]\n",
            "\n"
          ]
        }
      ]
    },
    {
      "cell_type": "code",
      "source": [
        "X_train = np.array([df.values for df, _ in data_with_labels[-4:]])  # Extrahieren der Daten aus den DataFrames\n",
        "X_train = X_train[:, :, [0, 5, 6]]   # Die ersten drei Spalten werden extrahiert (Frequenz, Amplitude, Phase)\n",
        "y_train = np.array([label for _, label in data_with_labels[-4:]])  # Extrahieren der Labels\n",
        "X_test = np.array([Blutprobe0.values])\n",
        "X_test = X_test[:, :, [0, 5, 6]]\n",
        "label_entry = labels['Krankheitszustand'].iloc[4]\n",
        "y_test = np.array(label_entry)"
      ],
      "metadata": {
        "id": "DbPBe2i02nFQ"
      },
      "execution_count": null,
      "outputs": []
    },
    {
      "cell_type": "code",
      "source": [
        "# Netzwerksparameter\n",
        "input_size = 3\n",
        "hidden_size = 256\n",
        "num_classes = 1\n",
        "batch_size = 10\n",
        "num_epochs = 50\n",
        "learning_rate = 0.0003\n",
        "threshold = 0.5"
      ],
      "metadata": {
        "id": "i6-eEmsj6-cW"
      },
      "execution_count": null,
      "outputs": []
    },
    {
      "cell_type": "code",
      "source": [
        "# Modell erstellen\n",
        "model = Sequential([\n",
        "    Masking(mask_value=0, input_shape=(12040, input_size)),\n",
        "    GRU(hidden_size, input_shape=(12040, input_size), return_sequences=True),\n",
        "    GRU(hidden_size, return_sequences=True),\n",
        "    GRU(hidden_size, return_sequences=False),\n",
        "    Dense(hidden_size, input_shape=(hidden_size,), activation='relu'),\n",
        "    Dense(hidden_size, input_shape=(hidden_size,), activation='relu'),\n",
        "    Dense(num_classes, activation='sigmoid')\n",
        "])"
      ],
      "metadata": {
        "collapsed": true,
        "id": "KajiXY2I7AWL",
        "colab": {
          "base_uri": "https://localhost:8080/"
        },
        "outputId": "891300ea-4d60-494c-f17f-5792e871c78c"
      },
      "execution_count": null,
      "outputs": [
        {
          "output_type": "stream",
          "name": "stderr",
          "text": [
            "/usr/local/lib/python3.10/dist-packages/keras/src/layers/core/masking.py:47: UserWarning: Do not pass an `input_shape`/`input_dim` argument to a layer. When using Sequential models, prefer using an `Input(shape)` object as the first layer in the model instead.\n",
            "  super().__init__(**kwargs)\n",
            "/usr/local/lib/python3.10/dist-packages/keras/src/layers/rnn/rnn.py:204: UserWarning: Do not pass an `input_shape`/`input_dim` argument to a layer. When using Sequential models, prefer using an `Input(shape)` object as the first layer in the model instead.\n",
            "  super().__init__(**kwargs)\n",
            "/usr/local/lib/python3.10/dist-packages/keras/src/layers/core/dense.py:87: UserWarning: Do not pass an `input_shape`/`input_dim` argument to a layer. When using Sequential models, prefer using an `Input(shape)` object as the first layer in the model instead.\n",
            "  super().__init__(activity_regularizer=activity_regularizer, **kwargs)\n"
          ]
        }
      ]
    },
    {
      "cell_type": "code",
      "source": [
        "# Loss-Funktion, Optimizer\n",
        "optimizer = tf.keras.optimizers.Adam(learning_rate=learning_rate)\n",
        "model.compile(loss='mse', optimizer=optimizer, metrics=['accuracy'])"
      ],
      "metadata": {
        "id": "TQYtA7z07DCH"
      },
      "execution_count": null,
      "outputs": []
    },
    {
      "cell_type": "code",
      "source": [
        "history = model.fit(X_train, y_train,epochs= num_epochs, batch_size= batch_size)"
      ],
      "metadata": {
        "colab": {
          "base_uri": "https://localhost:8080/"
        },
        "id": "3qbnqIKJ7oJU",
        "outputId": "6845ac33-d6da-4505-95a1-6d7cc798bb59"
      },
      "execution_count": null,
      "outputs": [
        {
          "output_type": "stream",
          "name": "stdout",
          "text": [
            "Epoch 1/50\n",
            "\u001b[1m1/1\u001b[0m \u001b[32m━━━━━━━━━━━━━━━━━━━━\u001b[0m\u001b[37m\u001b[0m \u001b[1m133s\u001b[0m 133s/step - accuracy: 1.0000 - loss: 0.2306\n",
            "Epoch 2/50\n",
            "\u001b[1m1/1\u001b[0m \u001b[32m━━━━━━━━━━━━━━━━━━━━\u001b[0m\u001b[37m\u001b[0m \u001b[1m133s\u001b[0m 133s/step - accuracy: 1.0000 - loss: 0.0909\n",
            "Epoch 3/50\n",
            "\u001b[1m1/1\u001b[0m \u001b[32m━━━━━━━━━━━━━━━━━━━━\u001b[0m\u001b[37m\u001b[0m \u001b[1m142s\u001b[0m 142s/step - accuracy: 1.0000 - loss: 0.0310\n",
            "Epoch 4/50\n",
            "\u001b[1m1/1\u001b[0m \u001b[32m━━━━━━━━━━━━━━━━━━━━\u001b[0m\u001b[37m\u001b[0m \u001b[1m142s\u001b[0m 142s/step - accuracy: 1.0000 - loss: 0.0093\n",
            "Epoch 5/50\n",
            "\u001b[1m1/1\u001b[0m \u001b[32m━━━━━━━━━━━━━━━━━━━━\u001b[0m\u001b[37m\u001b[0m \u001b[1m123s\u001b[0m 123s/step - accuracy: 1.0000 - loss: 0.0030\n",
            "Epoch 6/50\n",
            "\u001b[1m1/1\u001b[0m \u001b[32m━━━━━━━━━━━━━━━━━━━━\u001b[0m\u001b[37m\u001b[0m \u001b[1m139s\u001b[0m 139s/step - accuracy: 1.0000 - loss: 0.0011\n",
            "Epoch 7/50\n",
            "\u001b[1m1/1\u001b[0m \u001b[32m━━━━━━━━━━━━━━━━━━━━\u001b[0m\u001b[37m\u001b[0m \u001b[1m141s\u001b[0m 141s/step - accuracy: 1.0000 - loss: 4.1736e-04\n",
            "Epoch 8/50\n",
            "\u001b[1m1/1\u001b[0m \u001b[32m━━━━━━━━━━━━━━━━━━━━\u001b[0m\u001b[37m\u001b[0m \u001b[1m144s\u001b[0m 144s/step - accuracy: 1.0000 - loss: 1.7773e-04\n",
            "Epoch 9/50\n",
            "\u001b[1m1/1\u001b[0m \u001b[32m━━━━━━━━━━━━━━━━━━━━\u001b[0m\u001b[37m\u001b[0m \u001b[1m137s\u001b[0m 137s/step - accuracy: 1.0000 - loss: 8.3071e-05\n",
            "Epoch 10/50\n",
            "\u001b[1m1/1\u001b[0m \u001b[32m━━━━━━━━━━━━━━━━━━━━\u001b[0m\u001b[37m\u001b[0m \u001b[1m115s\u001b[0m 115s/step - accuracy: 1.0000 - loss: 4.1789e-05\n",
            "Epoch 11/50\n",
            "\u001b[1m1/1\u001b[0m \u001b[32m━━━━━━━━━━━━━━━━━━━━\u001b[0m\u001b[37m\u001b[0m \u001b[1m143s\u001b[0m 143s/step - accuracy: 1.0000 - loss: 2.2455e-05\n",
            "Epoch 12/50\n",
            "\u001b[1m1/1\u001b[0m \u001b[32m━━━━━━━━━━━━━━━━━━━━\u001b[0m\u001b[37m\u001b[0m \u001b[1m115s\u001b[0m 115s/step - accuracy: 1.0000 - loss: 1.2793e-05\n",
            "Epoch 13/50\n",
            "\u001b[1m1/1\u001b[0m \u001b[32m━━━━━━━━━━━━━━━━━━━━\u001b[0m\u001b[37m\u001b[0m \u001b[1m141s\u001b[0m 141s/step - accuracy: 1.0000 - loss: 7.6775e-06\n",
            "Epoch 14/50\n",
            "\u001b[1m1/1\u001b[0m \u001b[32m━━━━━━━━━━━━━━━━━━━━\u001b[0m\u001b[37m\u001b[0m \u001b[1m142s\u001b[0m 142s/step - accuracy: 1.0000 - loss: 4.8382e-06\n",
            "Epoch 15/50\n",
            "\u001b[1m1/1\u001b[0m \u001b[32m━━━━━━━━━━━━━━━━━━━━\u001b[0m\u001b[37m\u001b[0m \u001b[1m116s\u001b[0m 116s/step - accuracy: 1.0000 - loss: 3.1785e-06\n",
            "Epoch 16/50\n",
            "\u001b[1m1/1\u001b[0m \u001b[32m━━━━━━━━━━━━━━━━━━━━\u001b[0m\u001b[37m\u001b[0m \u001b[1m143s\u001b[0m 143s/step - accuracy: 1.0000 - loss: 2.1680e-06\n",
            "Epoch 17/50\n",
            "\u001b[1m1/1\u001b[0m \u001b[32m━━━━━━━━━━━━━━━━━━━━\u001b[0m\u001b[37m\u001b[0m \u001b[1m116s\u001b[0m 116s/step - accuracy: 1.0000 - loss: 1.5304e-06\n",
            "Epoch 18/50\n",
            "\u001b[1m1/1\u001b[0m \u001b[32m━━━━━━━━━━━━━━━━━━━━\u001b[0m\u001b[37m\u001b[0m \u001b[1m143s\u001b[0m 143s/step - accuracy: 1.0000 - loss: 1.1142e-06\n",
            "Epoch 19/50\n",
            "\u001b[1m1/1\u001b[0m \u001b[32m━━━━━━━━━━━━━━━━━━━━\u001b[0m\u001b[37m\u001b[0m \u001b[1m114s\u001b[0m 114s/step - accuracy: 1.0000 - loss: 8.3403e-07\n",
            "Epoch 20/50\n",
            "\u001b[1m1/1\u001b[0m \u001b[32m━━━━━━━━━━━━━━━━━━━━\u001b[0m\u001b[37m\u001b[0m \u001b[1m144s\u001b[0m 144s/step - accuracy: 1.0000 - loss: 6.3962e-07\n",
            "Epoch 21/50\n",
            "\u001b[1m1/1\u001b[0m \u001b[32m━━━━━━━━━━━━━━━━━━━━\u001b[0m\u001b[37m\u001b[0m \u001b[1m140s\u001b[0m 140s/step - accuracy: 1.0000 - loss: 5.0169e-07\n",
            "Epoch 22/50\n",
            "\u001b[1m1/1\u001b[0m \u001b[32m━━━━━━━━━━━━━━━━━━━━\u001b[0m\u001b[37m\u001b[0m \u001b[1m145s\u001b[0m 145s/step - accuracy: 1.0000 - loss: 4.0213e-07\n",
            "Epoch 23/50\n",
            "\u001b[1m1/1\u001b[0m \u001b[32m━━━━━━━━━━━━━━━━━━━━\u001b[0m\u001b[37m\u001b[0m \u001b[1m139s\u001b[0m 139s/step - accuracy: 1.0000 - loss: 3.2870e-07\n",
            "Epoch 24/50\n",
            "\u001b[1m1/1\u001b[0m \u001b[32m━━━━━━━━━━━━━━━━━━━━\u001b[0m\u001b[37m\u001b[0m \u001b[1m145s\u001b[0m 145s/step - accuracy: 1.0000 - loss: 2.7345e-07\n",
            "Epoch 25/50\n",
            "\u001b[1m1/1\u001b[0m \u001b[32m━━━━━━━━━━━━━━━━━━━━\u001b[0m\u001b[37m\u001b[0m \u001b[1m115s\u001b[0m 115s/step - accuracy: 1.0000 - loss: 2.3119e-07\n",
            "Epoch 26/50\n",
            "\u001b[1m1/1\u001b[0m \u001b[32m━━━━━━━━━━━━━━━━━━━━\u001b[0m\u001b[37m\u001b[0m \u001b[1m121s\u001b[0m 121s/step - accuracy: 1.0000 - loss: 1.9834e-07\n",
            "Epoch 27/50\n",
            "\u001b[1m1/1\u001b[0m \u001b[32m━━━━━━━━━━━━━━━━━━━━\u001b[0m\u001b[37m\u001b[0m \u001b[1m136s\u001b[0m 136s/step - accuracy: 1.0000 - loss: 1.7244e-07\n",
            "Epoch 28/50\n",
            "\u001b[1m1/1\u001b[0m \u001b[32m━━━━━━━━━━━━━━━━━━━━\u001b[0m\u001b[37m\u001b[0m \u001b[1m143s\u001b[0m 143s/step - accuracy: 1.0000 - loss: 1.5177e-07\n",
            "Epoch 29/50\n",
            "\u001b[1m1/1\u001b[0m \u001b[32m━━━━━━━━━━━━━━━━━━━━\u001b[0m\u001b[37m\u001b[0m \u001b[1m140s\u001b[0m 140s/step - accuracy: 1.0000 - loss: 1.3508e-07\n",
            "Epoch 30/50\n",
            "\u001b[1m1/1\u001b[0m \u001b[32m━━━━━━━━━━━━━━━━━━━━\u001b[0m\u001b[37m\u001b[0m \u001b[1m143s\u001b[0m 143s/step - accuracy: 1.0000 - loss: 1.2146e-07\n",
            "Epoch 31/50\n",
            "\u001b[1m1/1\u001b[0m \u001b[32m━━━━━━━━━━━━━━━━━━━━\u001b[0m\u001b[37m\u001b[0m \u001b[1m142s\u001b[0m 142s/step - accuracy: 1.0000 - loss: 1.1023e-07\n",
            "Epoch 32/50\n",
            "\u001b[1m1/1\u001b[0m \u001b[32m━━━━━━━━━━━━━━━━━━━━\u001b[0m\u001b[37m\u001b[0m \u001b[1m141s\u001b[0m 141s/step - accuracy: 1.0000 - loss: 1.0089e-07\n",
            "Epoch 33/50\n",
            "\u001b[1m1/1\u001b[0m \u001b[32m━━━━━━━━━━━━━━━━━━━━\u001b[0m\u001b[37m\u001b[0m \u001b[1m142s\u001b[0m 142s/step - accuracy: 1.0000 - loss: 9.3098e-08\n",
            "Epoch 34/50\n",
            "\u001b[1m1/1\u001b[0m \u001b[32m━━━━━━━━━━━━━━━━━━━━\u001b[0m\u001b[37m\u001b[0m \u001b[1m117s\u001b[0m 117s/step - accuracy: 1.0000 - loss: 8.6549e-08\n",
            "Epoch 35/50\n",
            "\u001b[1m1/1\u001b[0m \u001b[32m━━━━━━━━━━━━━━━━━━━━\u001b[0m\u001b[37m\u001b[0m \u001b[1m118s\u001b[0m 118s/step - accuracy: 1.0000 - loss: 8.0975e-08\n",
            "Epoch 36/50\n",
            "\u001b[1m1/1\u001b[0m \u001b[32m━━━━━━━━━━━━━━━━━━━━\u001b[0m\u001b[37m\u001b[0m \u001b[1m130s\u001b[0m 130s/step - accuracy: 1.0000 - loss: 7.6205e-08\n",
            "Epoch 37/50\n",
            "\u001b[1m1/1\u001b[0m \u001b[32m━━━━━━━━━━━━━━━━━━━━\u001b[0m\u001b[37m\u001b[0m \u001b[1m140s\u001b[0m 140s/step - accuracy: 1.0000 - loss: 7.2106e-08\n",
            "Epoch 38/50\n",
            "\u001b[1m1/1\u001b[0m \u001b[32m━━━━━━━━━━━━━━━━━━━━\u001b[0m\u001b[37m\u001b[0m \u001b[1m135s\u001b[0m 135s/step - accuracy: 1.0000 - loss: 6.8560e-08\n",
            "Epoch 39/50\n",
            "\u001b[1m1/1\u001b[0m \u001b[32m━━━━━━━━━━━━━━━━━━━━\u001b[0m\u001b[37m\u001b[0m \u001b[1m114s\u001b[0m 114s/step - accuracy: 1.0000 - loss: 6.5480e-08\n",
            "Epoch 40/50\n",
            "\u001b[1m1/1\u001b[0m \u001b[32m━━━━━━━━━━━━━━━━━━━━\u001b[0m\u001b[37m\u001b[0m \u001b[1m116s\u001b[0m 116s/step - accuracy: 1.0000 - loss: 6.2791e-08\n",
            "Epoch 41/50\n",
            "\u001b[1m1/1\u001b[0m \u001b[32m━━━━━━━━━━━━━━━━━━━━\u001b[0m\u001b[37m\u001b[0m \u001b[1m141s\u001b[0m 141s/step - accuracy: 1.0000 - loss: 6.0435e-08\n",
            "Epoch 42/50\n",
            "\u001b[1m1/1\u001b[0m \u001b[32m━━━━━━━━━━━━━━━━━━━━\u001b[0m\u001b[37m\u001b[0m \u001b[1m140s\u001b[0m 140s/step - accuracy: 1.0000 - loss: 5.8363e-08\n",
            "Epoch 43/50\n",
            "\u001b[1m1/1\u001b[0m \u001b[32m━━━━━━━━━━━━━━━━━━━━\u001b[0m\u001b[37m\u001b[0m \u001b[1m111s\u001b[0m 111s/step - accuracy: 1.0000 - loss: 5.6534e-08\n",
            "Epoch 44/50\n",
            "\u001b[1m1/1\u001b[0m \u001b[32m━━━━━━━━━━━━━━━━━━━━\u001b[0m\u001b[37m\u001b[0m \u001b[1m112s\u001b[0m 112s/step - accuracy: 1.0000 - loss: 5.4917e-08\n",
            "Epoch 45/50\n",
            "\u001b[1m1/1\u001b[0m \u001b[32m━━━━━━━━━━━━━━━━━━━━\u001b[0m\u001b[37m\u001b[0m \u001b[1m143s\u001b[0m 143s/step - accuracy: 1.0000 - loss: 5.3484e-08\n",
            "Epoch 46/50\n",
            "\u001b[1m1/1\u001b[0m \u001b[32m━━━━━━━━━━━━━━━━━━━━\u001b[0m\u001b[37m\u001b[0m \u001b[1m144s\u001b[0m 144s/step - accuracy: 1.0000 - loss: 5.2209e-08\n",
            "Epoch 47/50\n",
            "\u001b[1m1/1\u001b[0m \u001b[32m━━━━━━━━━━━━━━━━━━━━\u001b[0m\u001b[37m\u001b[0m \u001b[1m141s\u001b[0m 141s/step - accuracy: 1.0000 - loss: 5.1074e-08\n",
            "Epoch 48/50\n",
            "\u001b[1m1/1\u001b[0m \u001b[32m━━━━━━━━━━━━━━━━━━━━\u001b[0m\u001b[37m\u001b[0m \u001b[1m140s\u001b[0m 140s/step - accuracy: 1.0000 - loss: 5.0060e-08\n",
            "Epoch 49/50\n",
            "\u001b[1m1/1\u001b[0m \u001b[32m━━━━━━━━━━━━━━━━━━━━\u001b[0m\u001b[37m\u001b[0m \u001b[1m144s\u001b[0m 144s/step - accuracy: 1.0000 - loss: 4.9152e-08\n",
            "Epoch 50/50\n",
            "\u001b[1m1/1\u001b[0m \u001b[32m━━━━━━━━━━━━━━━━━━━━\u001b[0m\u001b[37m\u001b[0m \u001b[1m140s\u001b[0m 140s/step - accuracy: 1.0000 - loss: 4.8337e-08\n"
          ]
        }
      ]
    },
    {
      "cell_type": "code",
      "source": [
        "# Plotten die Veränderung der Loss abhängig von Epoch.\n",
        "plt.plot(history.history['loss'], label='Trainingsverlust')\n",
        "plt.yscale('log')\n",
        "plt.xlabel('Epochen')\n",
        "plt.ylabel('Loss')\n",
        "plt.title('Verlust während des Trainings')\n",
        "plt.legend()\n",
        "plt.show()"
      ],
      "metadata": {
        "colab": {
          "base_uri": "https://localhost:8080/",
          "height": 472
        },
        "id": "VR0Cl2S5Yj_e",
        "outputId": "0f3450d5-accf-467d-c3b4-2519b3161587"
      },
      "execution_count": null,
      "outputs": [
        {
          "output_type": "display_data",
          "data": {
            "text/plain": [
              "<Figure size 640x480 with 1 Axes>"
            ],
            "image/png": "[encoded data removed]"
          },
          "metadata": {}
        }
      ]
    },
    {
      "cell_type": "code",
      "source": [
        "plt.plot(history.history['accuracy'], label='Trainingsgenauigkeit')\n",
        "#plt.plot(history.history['val_accuracy'], label='Validierungsgenauigkeit')\n",
        "plt.xlabel('Epochen')\n",
        "plt.ylabel('Accuracy')\n",
        "plt.title('Genauigkeit während des Trainings')\n",
        "plt.legend()\n",
        "plt.show()"
      ],
      "metadata": {
        "colab": {
          "base_uri": "https://localhost:8080/",
          "height": 472
        },
        "id": "HDA4Evi6Ykol",
        "outputId": "86cfc0a7-e416-4394-f842-a4b4236066e1"
      },
      "execution_count": null,
      "outputs": [
        {
          "output_type": "display_data",
          "data": {
            "text/plain": [
              "<Figure size 640x480 with 1 Axes>"
            ],
            "image/png": "[encoded data removed]"
          },
          "metadata": {}
        }
      ]
    },
    {
      "cell_type": "code",
      "source": [
        "result = model.evaluate(X_train, y_train)\n",
        "loss, accuracy = result  # Hier wird das Tupel aufgelöst\n",
        "print(f\"Test Loss: {loss}, Test Accuracy: {accuracy}\")"
      ],
      "metadata": {
        "colab": {
          "base_uri": "https://localhost:8080/"
        },
        "id": "RPe2hcD_Ymel",
        "outputId": "ecf7ecaa-3842-4b0c-e654-cb711c2827ce"
      },
      "execution_count": null,
      "outputs": [
        {
          "output_type": "stream",
          "name": "stdout",
          "text": [
            "\u001b[1m1/1\u001b[0m \u001b[32m━━━━━━━━━━━━━━━━━━━━\u001b[0m\u001b[37m\u001b[0m \u001b[1m13s\u001b[0m 13s/step - accuracy: 1.0000 - loss: 4.7605e-08\n",
            "Test Loss: 4.760497063216462e-08, Test Accuracy: 1.0\n"
          ]
        }
      ]
    },
    {
      "cell_type": "code",
      "source": [
        "# Vorhersage machen. Das sind die Outputs für die Vorhersage von X_test.\n",
        "binäre_vorhersage = (model.predict(X_test) > threshold).astype(int)\n",
        "class_labels = np.where(binäre_vorhersage == 1, \"Blutgerinnung\", \"Keine Blutgerinnung\")\n",
        "print(class_labels)"
      ],
      "metadata": {
        "colab": {
          "base_uri": "https://localhost:8080/"
        },
        "id": "fFm6tpaeYq32",
        "outputId": "a0ecc1fd-cd89-48e1-ef2a-9b76df1b6a98"
      },
      "execution_count": null,
      "outputs": [
        {
          "output_type": "stream",
          "name": "stdout",
          "text": [
            "\u001b[1m1/1\u001b[0m \u001b[32m━━━━━━━━━━━━━━━━━━━━\u001b[0m\u001b[37m\u001b[0m \u001b[1m11s\u001b[0m 11s/step\n",
            "[['Keine Blutgerinnung']]\n"
          ]
        }
      ]
    },
    {
      "cell_type": "markdown",
      "source": [
        "\n",
        "\n",
        "---\n",
        "\n"
      ],
      "metadata": {
        "id": "ipe3bMbl42F6"
      }
    },
    {
      "cell_type": "code",
      "source": [
        "# Berechne die Genauigkeit\n",
        "accuracy = accuracy_score(y_test, binäre_vorhersage)\n",
        "print(\"Genauigkeit auf Testdaten:\", accuracy)"
      ],
      "metadata": {
        "colab": {
          "base_uri": "https://localhost:8080/"
        },
        "id": "c-b7ZnH8b4IZ",
        "outputId": "c0df5473-e6c7-4eb7-8a63-fede7e2b33a9"
      },
      "execution_count": null,
      "outputs": [
        {
          "output_type": "stream",
          "name": "stdout",
          "text": [
            "Genauigkeit auf Testdaten: 0.495\n"
          ]
        }
      ]
    },
    {
      "cell_type": "code",
      "source": [
        "# Berechne Precision, Recall und F1-Score\n",
        "precision, recall, f1_score, _ = precision_recall_fscore_support(y_test, binäre_vorhersage, average='binary')\n",
        "\n",
        "print(\"Precision:\", precision)\n",
        "print(\"Recall:\", recall)\n",
        "print(\"F1-Score:\", f1_score)"
      ],
      "metadata": {
        "colab": {
          "base_uri": "https://localhost:8080/"
        },
        "id": "TqY4zJENe8mW",
        "outputId": "bf690f17-8d2f-4fa7-e39b-3c0f7a38f5c7"
      },
      "execution_count": null,
      "outputs": [
        {
          "output_type": "stream",
          "name": "stdout",
          "text": [
            "Precision: 0.5217391304347826\n",
            "Recall: 0.5660377358490566\n",
            "F1-Score: 0.5429864253393665\n"
          ]
        }
      ]
    },
    {
      "cell_type": "code",
      "source": [
        "# Vorhersage Plotten!!!\n",
        "plt.scatter(X_test[:, 0], X_test[:, 1], c=binäre_vorhersage, cmap='viridis', label=class_labels)\n",
        "plt.xlabel('Amplitude')\n",
        "plt.ylabel('Frequenz')\n",
        "plt.title('Binary Classification')\n",
        "#plt.legend([\"Gesund\", \"Krank\"])\n",
        "plt.show()"
      ],
      "metadata": {
        "colab": {
          "base_uri": "https://localhost:8080/"
        },
        "id": "DJ55-oLJvSol",
        "outputId": "d5eaa676-8ff6-4f00-adee-6b84ed8a9036"
      },
      "execution_count": null,
      "outputs": [
        {
          "output_type": "error",
          "ename": "ValueError",
          "evalue": "'c' argument has 1 elements, which is inconsistent with 'x' and 'y' with size 3.",
          "traceback": [
            "\u001b[0;31m---------------------------------------------------------------------------\u001b[0m",
            "\u001b[0;31mValueError\u001b[0m                                Traceback (most recent call last)",
            "\u001b[0;32m/usr/local/lib/python3.10/dist-packages/matplotlib/axes/_axes.py\u001b[0m in \u001b[0;36m_parse_scatter_color_args\u001b[0;34m(c, edgecolors, kwargs, xsize, get_next_color_func)\u001b[0m\n\u001b[1;32m   4438\u001b[0m             \u001b[0;32mtry\u001b[0m\u001b[0;34m:\u001b[0m  \u001b[0;31m# Is 'c' acceptable as PathCollection facecolors?\u001b[0m\u001b[0;34m\u001b[0m\u001b[0;34m\u001b[0m\u001b[0m\n\u001b[0;32m-> 4439\u001b[0;31m                 \u001b[0mcolors\u001b[0m \u001b[0;34m=\u001b[0m \u001b[0mmcolors\u001b[0m\u001b[0;34m.\u001b[0m\u001b[0mto_rgba_array\u001b[0m\u001b[0;34m(\u001b[0m\u001b[0mc\u001b[0m\u001b[0;34m)\u001b[0m\u001b[0;34m\u001b[0m\u001b[0;34m\u001b[0m\u001b[0m\n\u001b[0m\u001b[1;32m   4440\u001b[0m             \u001b[0;32mexcept\u001b[0m \u001b[0;34m(\u001b[0m\u001b[0mTypeError\u001b[0m\u001b[0;34m,\u001b[0m \u001b[0mValueError\u001b[0m\u001b[0;34m)\u001b[0m \u001b[0;32mas\u001b[0m \u001b[0merr\u001b[0m\u001b[0;34m:\u001b[0m\u001b[0;34m\u001b[0m\u001b[0;34m\u001b[0m\u001b[0m\n",
            "\u001b[0;32m/usr/local/lib/python3.10/dist-packages/matplotlib/colors.py\u001b[0m in \u001b[0;36mto_rgba_array\u001b[0;34m(c, alpha)\u001b[0m\n\u001b[1;32m    486\u001b[0m     \u001b[0;32melse\u001b[0m\u001b[0;34m:\u001b[0m\u001b[0;34m\u001b[0m\u001b[0;34m\u001b[0m\u001b[0m\n\u001b[0;32m--> 487\u001b[0;31m         \u001b[0mrgba\u001b[0m \u001b[0;34m=\u001b[0m \u001b[0mnp\u001b[0m\u001b[0;34m.\u001b[0m\u001b[0marray\u001b[0m\u001b[0;34m(\u001b[0m\u001b[0;34m[\u001b[0m\u001b[0mto_rgba\u001b[0m\u001b[0;34m(\u001b[0m\u001b[0mcc\u001b[0m\u001b[0;34m)\u001b[0m \u001b[0;32mfor\u001b[0m \u001b[0mcc\u001b[0m \u001b[0;32min\u001b[0m \u001b[0mc\u001b[0m\u001b[0;34m]\u001b[0m\u001b[0;34m)\u001b[0m\u001b[0;34m\u001b[0m\u001b[0;34m\u001b[0m\u001b[0m\n\u001b[0m\u001b[1;32m    488\u001b[0m \u001b[0;34m\u001b[0m\u001b[0m\n",
            "\u001b[0;32m/usr/local/lib/python3.10/dist-packages/matplotlib/colors.py\u001b[0m in \u001b[0;36m<listcomp>\u001b[0;34m(.0)\u001b[0m\n\u001b[1;32m    486\u001b[0m     \u001b[0;32melse\u001b[0m\u001b[0;34m:\u001b[0m\u001b[0;34m\u001b[0m\u001b[0;34m\u001b[0m\u001b[0m\n\u001b[0;32m--> 487\u001b[0;31m         \u001b[0mrgba\u001b[0m \u001b[0;34m=\u001b[0m \u001b[0mnp\u001b[0m\u001b[0;34m.\u001b[0m\u001b[0marray\u001b[0m\u001b[0;34m(\u001b[0m\u001b[0;34m[\u001b[0m\u001b[0mto_rgba\u001b[0m\u001b[0;34m(\u001b[0m\u001b[0mcc\u001b[0m\u001b[0;34m)\u001b[0m \u001b[0;32mfor\u001b[0m \u001b[0mcc\u001b[0m \u001b[0;32min\u001b[0m \u001b[0mc\u001b[0m\u001b[0;34m]\u001b[0m\u001b[0;34m)\u001b[0m\u001b[0;34m\u001b[0m\u001b[0;34m\u001b[0m\u001b[0m\n\u001b[0m\u001b[1;32m    488\u001b[0m \u001b[0;34m\u001b[0m\u001b[0m\n",
            "\u001b[0;32m/usr/local/lib/python3.10/dist-packages/matplotlib/colors.py\u001b[0m in \u001b[0;36mto_rgba\u001b[0;34m(c, alpha)\u001b[0m\n\u001b[1;32m    298\u001b[0m     \u001b[0;32mif\u001b[0m \u001b[0mrgba\u001b[0m \u001b[0;32mis\u001b[0m \u001b[0;32mNone\u001b[0m\u001b[0;34m:\u001b[0m  \u001b[0;31m# Suppress exception chaining of cache lookup failure.\u001b[0m\u001b[0;34m\u001b[0m\u001b[0;34m\u001b[0m\u001b[0m\n\u001b[0;32m--> 299\u001b[0;31m         \u001b[0mrgba\u001b[0m \u001b[0;34m=\u001b[0m \u001b[0m_to_rgba_no_colorcycle\u001b[0m\u001b[0;34m(\u001b[0m\u001b[0mc\u001b[0m\u001b[0;34m,\u001b[0m \u001b[0malpha\u001b[0m\u001b[0;34m)\u001b[0m\u001b[0;34m\u001b[0m\u001b[0;34m\u001b[0m\u001b[0m\n\u001b[0m\u001b[1;32m    300\u001b[0m         \u001b[0;32mtry\u001b[0m\u001b[0;34m:\u001b[0m\u001b[0;34m\u001b[0m\u001b[0;34m\u001b[0m\u001b[0m\n",
            "\u001b[0;32m/usr/local/lib/python3.10/dist-packages/matplotlib/colors.py\u001b[0m in \u001b[0;36m_to_rgba_no_colorcycle\u001b[0;34m(c, alpha)\u001b[0m\n\u001b[1;32m    382\u001b[0m     \u001b[0;32mif\u001b[0m \u001b[0mlen\u001b[0m\u001b[0;34m(\u001b[0m\u001b[0mc\u001b[0m\u001b[0;34m)\u001b[0m \u001b[0;32mnot\u001b[0m \u001b[0;32min\u001b[0m \u001b[0;34m[\u001b[0m\u001b[0;36m3\u001b[0m\u001b[0;34m,\u001b[0m \u001b[0;36m4\u001b[0m\u001b[0;34m]\u001b[0m\u001b[0;34m:\u001b[0m\u001b[0;34m\u001b[0m\u001b[0;34m\u001b[0m\u001b[0m\n\u001b[0;32m--> 383\u001b[0;31m         \u001b[0;32mraise\u001b[0m \u001b[0mValueError\u001b[0m\u001b[0;34m(\u001b[0m\u001b[0;34m\"RGBA sequence should have length 3 or 4\"\u001b[0m\u001b[0;34m)\u001b[0m\u001b[0;34m\u001b[0m\u001b[0;34m\u001b[0m\u001b[0m\n\u001b[0m\u001b[1;32m    384\u001b[0m     \u001b[0;32mif\u001b[0m \u001b[0;32mnot\u001b[0m \u001b[0mall\u001b[0m\u001b[0;34m(\u001b[0m\u001b[0misinstance\u001b[0m\u001b[0;34m(\u001b[0m\u001b[0mx\u001b[0m\u001b[0;34m,\u001b[0m \u001b[0mNumber\u001b[0m\u001b[0;34m)\u001b[0m \u001b[0;32mfor\u001b[0m \u001b[0mx\u001b[0m \u001b[0;32min\u001b[0m \u001b[0mc\u001b[0m\u001b[0;34m)\u001b[0m\u001b[0;34m:\u001b[0m\u001b[0;34m\u001b[0m\u001b[0;34m\u001b[0m\u001b[0m\n",
            "\u001b[0;31mValueError\u001b[0m: RGBA sequence should have length 3 or 4",
            "\nThe above exception was the direct cause of the following exception:\n",
            "\u001b[0;31mValueError\u001b[0m                                Traceback (most recent call last)",
            "\u001b[0;32m<ipython-input-31-981278f02392>\u001b[0m in \u001b[0;36m<cell line: 2>\u001b[0;34m()\u001b[0m\n\u001b[1;32m      1\u001b[0m \u001b[0;31m# Vorhersage Plotten!!!\u001b[0m\u001b[0;34m\u001b[0m\u001b[0;34m\u001b[0m\u001b[0m\n\u001b[0;32m----> 2\u001b[0;31m \u001b[0mplt\u001b[0m\u001b[0;34m.\u001b[0m\u001b[0mscatter\u001b[0m\u001b[0;34m(\u001b[0m\u001b[0mX_test\u001b[0m\u001b[0;34m[\u001b[0m\u001b[0;34m:\u001b[0m\u001b[0;34m,\u001b[0m \u001b[0;36m0\u001b[0m\u001b[0;34m]\u001b[0m\u001b[0;34m,\u001b[0m \u001b[0mX_test\u001b[0m\u001b[0;34m[\u001b[0m\u001b[0;34m:\u001b[0m\u001b[0;34m,\u001b[0m \u001b[0;36m1\u001b[0m\u001b[0;34m]\u001b[0m\u001b[0;34m,\u001b[0m \u001b[0mc\u001b[0m\u001b[0;34m=\u001b[0m\u001b[0mbinäre_vorhersage\u001b[0m\u001b[0;34m,\u001b[0m \u001b[0mcmap\u001b[0m\u001b[0;34m=\u001b[0m\u001b[0;34m'viridis'\u001b[0m\u001b[0;34m,\u001b[0m \u001b[0mlabel\u001b[0m\u001b[0;34m=\u001b[0m\u001b[0mclass_labels\u001b[0m\u001b[0;34m)\u001b[0m\u001b[0;34m\u001b[0m\u001b[0;34m\u001b[0m\u001b[0m\n\u001b[0m\u001b[1;32m      3\u001b[0m \u001b[0mplt\u001b[0m\u001b[0;34m.\u001b[0m\u001b[0mxlabel\u001b[0m\u001b[0;34m(\u001b[0m\u001b[0;34m'Amplitude'\u001b[0m\u001b[0;34m)\u001b[0m\u001b[0;34m\u001b[0m\u001b[0;34m\u001b[0m\u001b[0m\n\u001b[1;32m      4\u001b[0m \u001b[0mplt\u001b[0m\u001b[0;34m.\u001b[0m\u001b[0mylabel\u001b[0m\u001b[0;34m(\u001b[0m\u001b[0;34m'Frequenz'\u001b[0m\u001b[0;34m)\u001b[0m\u001b[0;34m\u001b[0m\u001b[0;34m\u001b[0m\u001b[0m\n\u001b[1;32m      5\u001b[0m \u001b[0mplt\u001b[0m\u001b[0;34m.\u001b[0m\u001b[0mtitle\u001b[0m\u001b[0;34m(\u001b[0m\u001b[0;34m'Binary Classification'\u001b[0m\u001b[0;34m)\u001b[0m\u001b[0;34m\u001b[0m\u001b[0;34m\u001b[0m\u001b[0m\n",
            "\u001b[0;32m/usr/local/lib/python3.10/dist-packages/matplotlib/pyplot.py\u001b[0m in \u001b[0;36mscatter\u001b[0;34m(x, y, s, c, marker, cmap, norm, vmin, vmax, alpha, linewidths, edgecolors, plotnonfinite, data, **kwargs)\u001b[0m\n\u001b[1;32m   2860\u001b[0m         \u001b[0mvmin\u001b[0m\u001b[0;34m=\u001b[0m\u001b[0;32mNone\u001b[0m\u001b[0;34m,\u001b[0m \u001b[0mvmax\u001b[0m\u001b[0;34m=\u001b[0m\u001b[0;32mNone\u001b[0m\u001b[0;34m,\u001b[0m \u001b[0malpha\u001b[0m\u001b[0;34m=\u001b[0m\u001b[0;32mNone\u001b[0m\u001b[0;34m,\u001b[0m \u001b[0mlinewidths\u001b[0m\u001b[0;34m=\u001b[0m\u001b[0;32mNone\u001b[0m\u001b[0;34m,\u001b[0m \u001b[0;34m*\u001b[0m\u001b[0;34m,\u001b[0m\u001b[0;34m\u001b[0m\u001b[0;34m\u001b[0m\u001b[0m\n\u001b[1;32m   2861\u001b[0m         edgecolors=None, plotnonfinite=False, data=None, **kwargs):\n\u001b[0;32m-> 2862\u001b[0;31m     __ret = gca().scatter(\n\u001b[0m\u001b[1;32m   2863\u001b[0m         \u001b[0mx\u001b[0m\u001b[0;34m,\u001b[0m \u001b[0my\u001b[0m\u001b[0;34m,\u001b[0m \u001b[0ms\u001b[0m\u001b[0;34m=\u001b[0m\u001b[0ms\u001b[0m\u001b[0;34m,\u001b[0m \u001b[0mc\u001b[0m\u001b[0;34m=\u001b[0m\u001b[0mc\u001b[0m\u001b[0;34m,\u001b[0m \u001b[0mmarker\u001b[0m\u001b[0;34m=\u001b[0m\u001b[0mmarker\u001b[0m\u001b[0;34m,\u001b[0m \u001b[0mcmap\u001b[0m\u001b[0;34m=\u001b[0m\u001b[0mcmap\u001b[0m\u001b[0;34m,\u001b[0m \u001b[0mnorm\u001b[0m\u001b[0;34m=\u001b[0m\u001b[0mnorm\u001b[0m\u001b[0;34m,\u001b[0m\u001b[0;34m\u001b[0m\u001b[0;34m\u001b[0m\u001b[0m\n\u001b[1;32m   2864\u001b[0m         \u001b[0mvmin\u001b[0m\u001b[0;34m=\u001b[0m\u001b[0mvmin\u001b[0m\u001b[0;34m,\u001b[0m \u001b[0mvmax\u001b[0m\u001b[0;34m=\u001b[0m\u001b[0mvmax\u001b[0m\u001b[0;34m,\u001b[0m \u001b[0malpha\u001b[0m\u001b[0;34m=\u001b[0m\u001b[0malpha\u001b[0m\u001b[0;34m,\u001b[0m \u001b[0mlinewidths\u001b[0m\u001b[0;34m=\u001b[0m\u001b[0mlinewidths\u001b[0m\u001b[0;34m,\u001b[0m\u001b[0;34m\u001b[0m\u001b[0;34m\u001b[0m\u001b[0m\n",
            "\u001b[0;32m/usr/local/lib/python3.10/dist-packages/matplotlib/__init__.py\u001b[0m in \u001b[0;36minner\u001b[0;34m(ax, data, *args, **kwargs)\u001b[0m\n\u001b[1;32m   1440\u001b[0m     \u001b[0;32mdef\u001b[0m \u001b[0minner\u001b[0m\u001b[0;34m(\u001b[0m\u001b[0max\u001b[0m\u001b[0;34m,\u001b[0m \u001b[0;34m*\u001b[0m\u001b[0margs\u001b[0m\u001b[0;34m,\u001b[0m \u001b[0mdata\u001b[0m\u001b[0;34m=\u001b[0m\u001b[0;32mNone\u001b[0m\u001b[0;34m,\u001b[0m \u001b[0;34m**\u001b[0m\u001b[0mkwargs\u001b[0m\u001b[0;34m)\u001b[0m\u001b[0;34m:\u001b[0m\u001b[0;34m\u001b[0m\u001b[0;34m\u001b[0m\u001b[0m\n\u001b[1;32m   1441\u001b[0m         \u001b[0;32mif\u001b[0m \u001b[0mdata\u001b[0m \u001b[0;32mis\u001b[0m \u001b[0;32mNone\u001b[0m\u001b[0;34m:\u001b[0m\u001b[0;34m\u001b[0m\u001b[0;34m\u001b[0m\u001b[0m\n\u001b[0;32m-> 1442\u001b[0;31m             \u001b[0;32mreturn\u001b[0m \u001b[0mfunc\u001b[0m\u001b[0;34m(\u001b[0m\u001b[0max\u001b[0m\u001b[0;34m,\u001b[0m \u001b[0;34m*\u001b[0m\u001b[0mmap\u001b[0m\u001b[0;34m(\u001b[0m\u001b[0msanitize_sequence\u001b[0m\u001b[0;34m,\u001b[0m \u001b[0margs\u001b[0m\u001b[0;34m)\u001b[0m\u001b[0;34m,\u001b[0m \u001b[0;34m**\u001b[0m\u001b[0mkwargs\u001b[0m\u001b[0;34m)\u001b[0m\u001b[0;34m\u001b[0m\u001b[0;34m\u001b[0m\u001b[0m\n\u001b[0m\u001b[1;32m   1443\u001b[0m \u001b[0;34m\u001b[0m\u001b[0m\n\u001b[1;32m   1444\u001b[0m         \u001b[0mbound\u001b[0m \u001b[0;34m=\u001b[0m \u001b[0mnew_sig\u001b[0m\u001b[0;34m.\u001b[0m\u001b[0mbind\u001b[0m\u001b[0;34m(\u001b[0m\u001b[0max\u001b[0m\u001b[0;34m,\u001b[0m \u001b[0;34m*\u001b[0m\u001b[0margs\u001b[0m\u001b[0;34m,\u001b[0m \u001b[0;34m**\u001b[0m\u001b[0mkwargs\u001b[0m\u001b[0;34m)\u001b[0m\u001b[0;34m\u001b[0m\u001b[0;34m\u001b[0m\u001b[0m\n",
            "\u001b[0;32m/usr/local/lib/python3.10/dist-packages/matplotlib/axes/_axes.py\u001b[0m in \u001b[0;36mscatter\u001b[0;34m(self, x, y, s, c, marker, cmap, norm, vmin, vmax, alpha, linewidths, edgecolors, plotnonfinite, **kwargs)\u001b[0m\n\u001b[1;32m   4600\u001b[0m             \u001b[0morig_edgecolor\u001b[0m \u001b[0;34m=\u001b[0m \u001b[0mkwargs\u001b[0m\u001b[0;34m.\u001b[0m\u001b[0mget\u001b[0m\u001b[0;34m(\u001b[0m\u001b[0;34m'edgecolor'\u001b[0m\u001b[0;34m,\u001b[0m \u001b[0;32mNone\u001b[0m\u001b[0;34m)\u001b[0m\u001b[0;34m\u001b[0m\u001b[0;34m\u001b[0m\u001b[0m\n\u001b[1;32m   4601\u001b[0m         \u001b[0mc\u001b[0m\u001b[0;34m,\u001b[0m \u001b[0mcolors\u001b[0m\u001b[0;34m,\u001b[0m \u001b[0medgecolors\u001b[0m \u001b[0;34m=\u001b[0m\u001b[0;31m \u001b[0m\u001b[0;31m\\\u001b[0m\u001b[0;34m\u001b[0m\u001b[0;34m\u001b[0m\u001b[0m\n\u001b[0;32m-> 4602\u001b[0;31m             self._parse_scatter_color_args(\n\u001b[0m\u001b[1;32m   4603\u001b[0m                 \u001b[0mc\u001b[0m\u001b[0;34m,\u001b[0m \u001b[0medgecolors\u001b[0m\u001b[0;34m,\u001b[0m \u001b[0mkwargs\u001b[0m\u001b[0;34m,\u001b[0m \u001b[0mx\u001b[0m\u001b[0;34m.\u001b[0m\u001b[0msize\u001b[0m\u001b[0;34m,\u001b[0m\u001b[0;34m\u001b[0m\u001b[0;34m\u001b[0m\u001b[0m\n\u001b[1;32m   4604\u001b[0m                 get_next_color_func=self._get_patches_for_fill.get_next_color)\n",
            "\u001b[0;32m/usr/local/lib/python3.10/dist-packages/matplotlib/axes/_axes.py\u001b[0m in \u001b[0;36m_parse_scatter_color_args\u001b[0;34m(c, edgecolors, kwargs, xsize, get_next_color_func)\u001b[0m\n\u001b[1;32m   4443\u001b[0m                 \u001b[0;32melse\u001b[0m\u001b[0;34m:\u001b[0m\u001b[0;34m\u001b[0m\u001b[0;34m\u001b[0m\u001b[0m\n\u001b[1;32m   4444\u001b[0m                     \u001b[0;32mif\u001b[0m \u001b[0;32mnot\u001b[0m \u001b[0mvalid_shape\u001b[0m\u001b[0;34m:\u001b[0m\u001b[0;34m\u001b[0m\u001b[0;34m\u001b[0m\u001b[0m\n\u001b[0;32m-> 4445\u001b[0;31m                         \u001b[0;32mraise\u001b[0m \u001b[0minvalid_shape_exception\u001b[0m\u001b[0;34m(\u001b[0m\u001b[0mc\u001b[0m\u001b[0;34m.\u001b[0m\u001b[0msize\u001b[0m\u001b[0;34m,\u001b[0m \u001b[0mxsize\u001b[0m\u001b[0;34m)\u001b[0m \u001b[0;32mfrom\u001b[0m \u001b[0merr\u001b[0m\u001b[0;34m\u001b[0m\u001b[0;34m\u001b[0m\u001b[0m\n\u001b[0m\u001b[1;32m   4446\u001b[0m                     \u001b[0;31m# Both the mapping *and* the RGBA conversion failed: pretty\u001b[0m\u001b[0;34m\u001b[0m\u001b[0;34m\u001b[0m\u001b[0m\n\u001b[1;32m   4447\u001b[0m                     \u001b[0;31m# severe failure => one may appreciate a verbose feedback.\u001b[0m\u001b[0;34m\u001b[0m\u001b[0;34m\u001b[0m\u001b[0m\n",
            "\u001b[0;31mValueError\u001b[0m: 'c' argument has 1 elements, which is inconsistent with 'x' and 'y' with size 3."
          ]
        },
        {
          "output_type": "display_data",
          "data": {
            "text/plain": [
              "<Figure size 640x480 with 1 Axes>"
            ],
            "image/png": "[encoded data removed]"
          },
          "metadata": {}
        }
      ]
    },
    {
      "cell_type": "markdown",
      "source": [
        "\n",
        "\n",
        "---\n",
        "\n",
        "\n",
        "\n",
        "---\n",
        "\n",
        "\n",
        "\n",
        "---\n",
        "\n",
        "\n",
        "\n",
        "---\n",
        "\n",
        "\n",
        "\n",
        "---\n",
        "\n"
      ],
      "metadata": {
        "id": "gD9NKYSs79mn"
      }
    },
    {
      "cell_type": "code",
      "source": [
        "#Das sind alle Datensätze um das Neuronale Netzwerk zu trainieren. Wir haben 5 Datensätze die Gesund signifizieren und 6 Datensätze um Krank zu signifizieren. Also\n",
        "#diesen Daten erzeugen wir alle Datensätze!!!\n",
        "\n",
        "#Gesund\n",
        "data1 = {\n",
        "    'Frequenz': [100, 105, 110, 115, 120, 125, 130, 135, 140, 145, 150, 155, 160, 165, 170, 175, 180, 185, 190, 195, 200],\n",
        "    'Amplitude': [0, 0, 0.15, 0.1, 0.2, 0.25, 0.2, 0, 0.1, 0.15, 0.1, 0, 0.2, 0.3, 0.4, 0.5, 0.6, 0.5, 0.3, 0.25, 0.1]\n",
        "}\n",
        "\n",
        "#Gesund\n",
        "data2 = {\n",
        "    'Frequenz': [100, 105, 110, 115, 120, 125, 130, 135, 140, 145, 150, 155, 160, 165, 170, 175, 180, 185, 190, 195, 200],\n",
        "    'Amplitude': [0, 0, 0.165, 0.11, 0.22, 0.275, 0.22, 0, 0.11, 0.165, 0.11, 0, 0.22, 0.33, 0.44, 0.55, 0.66, 0.55, 0.33, 0.279, 0.11]\n",
        "}\n",
        "\n",
        "#Gesund\n",
        "data3 = {\n",
        "    'Frequenz': [100, 105, 110, 115, 120, 125, 130, 135, 140, 145, 150, 155, 160, 165, 170, 175, 180, 185, 190, 195, 200],\n",
        "    'Amplitude': [0, 0, 0.15, 0.1, 0.1, 0.15, 0, 0, 0.1, 0.15, 0.1, 0, 0.2, 0.3, 0.4, 0.5, 0.6, 0.5, 0.3, 0.25, 0.1]\n",
        "}\n",
        "#Gesund\n",
        "data4 = {\n",
        "    'Frequenz': [100, 105, 110, 115, 120, 125, 130, 135, 140, 145, 150, 155, 160, 165, 170, 175, 180, 185, 190, 195, 200],\n",
        "    'Amplitude': [0, 0.1, 0.2, 0.4, 0.2, 0.15, 0, 0, 0.1, 0.15, 0.1, 0, 0.2, 0.3, 0.4, 0.6, 0.7, 0.5, 0.3, 0.25, 0.1]\n",
        "}\n",
        "\n",
        "#Gesund\n",
        "data5 = {\n",
        "    'Frequenz': [100, 105, 110, 115, 120, 125, 130, 135, 140, 145, 150, 155, 160, 165, 170, 175, 180, 185, 190, 195, 200],\n",
        "    'Amplitude': [0, 0.1, 0.2, 0.4, 0.2, 0.15, 0, 0, 0.1, 0.15, 0.1, 0.2, 0.4, 0.6, 0.7, 0.8, 1, 0.8, 0.6, 0.5, 0.5]\n",
        "}\n",
        "\n",
        "#Krank\n",
        "data6 = {\n",
        "    'Frequenz': [100, 105, 110, 115, 120, 125, 130, 135, 140, 145, 150, 155, 160, 165, 170, 175, 180, 185, 190, 195, 200],\n",
        "    'Amplitude': [0.4, 0.5, 0.6, 0.8, 1, 1, 0.8, 0.6, 0.5, 0.2, 0.1, 0.15, 0.1, 0, 0, 0.15, 0.2, 0.4, 0.2, 0.1, 0]\n",
        "}\n",
        "\n",
        "#Krank\n",
        "data7 = {\n",
        "    'Frequenz': [100, 105, 110, 115, 120, 125, 130, 135, 140, 145, 150, 155, 160, 165, 170, 175, 180, 185, 190, 195, 200],\n",
        "    'Amplitude': [0.4, 0.6, 0.5, 0.4, 0.3, 0.1, 0.2, 0.1, 0.1, 0.1, 0.3, 0.1, 0.15, 0.1, 0, 0, 0.15, 0.2, 0.3, 0.2, 0.1, ]\n",
        "}\n",
        "\n",
        "#Krank\n",
        "data8 = {\n",
        "    'Frequenz': [100, 105, 110, 115, 120, 125, 130, 135, 140, 145, 150, 155, 160, 165, 170, 175, 180, 185, 190, 195, 200],\n",
        "    'Amplitude': [0.1, 0.6, 0.6, 0.7, 0.5, 0.4, 0.2, 0.1, 0, 0.2, 0.3, 0.2, 0.3, 0.3, 0.1, 0.1, 0.15, 0.2, 0.3, 0.2, 0.1, ]\n",
        "}\n",
        "\n",
        "#Krank\n",
        "data9 = {\n",
        "    'Frequenz': [100, 105, 110, 115, 120, 125, 130, 135, 140, 145, 150, 155, 160, 165, 170, 175, 180, 185, 190, 195, 200],\n",
        "    'Amplitude': [0.57, 0.48, 0.61, 0.81, 1.02, 0.83, 0.72, 0.62, 0.41, 0.18, 0.1, 0.145, 0.11, 0.01, 0.03, 0.165, 0.23, 0.39, 0.21, 0.12, 0.02]\n",
        "}\n",
        "\n",
        "#Krank\n",
        "data10 = {\n",
        "    'Frequenz': [100, 105, 110, 115, 120, 125, 130, 135, 140, 145, 150, 155, 160, 165, 170, 175, 180, 185, 190, 195, 200],\n",
        "    'Amplitude': [0.54, 0.51, 0.63, 0.79, 1.02, 0.81, 0.71, 0.59, 0.39, 0.19, 0.11, 0.17, 0.09, 0, 0.01, 0.145, 0.21, 0.43, 0.22, 0.08, 0.01]\n",
        "}\n",
        "\n",
        "#Krank\n",
        "data11 = {\n",
        "    'Frequenz': [100, 105, 110, 115, 120, 125, 130, 135, 140, 145, 150, 155, 160, 165, 170, 175, 180, 185, 190, 195, 200],\n",
        "    'Amplitude': [0.51, 0.5, 0.61, 0.79, 0.8, 0.85, 0.85, 0.64, 0.42, 0.22, 0.09, 0.16, 0.09, 0.01, 0.01, 0.14, 0.22, 0.38, 0.3, 0.2, 0.12]\n",
        "}"
      ],
      "metadata": {
        "id": "7sEtFigOMzW6"
      },
      "execution_count": null,
      "outputs": []
    },
    {
      "cell_type": "code",
      "source": [
        "data1 = {\n",
        "    'Frequenz': [100, 105, 110, 115, 120, 125, 130, 135, 140, 145, 150, 155, 160, 165, 170, 175, 180, 185, 190, 195, 200],\n",
        "    'Amplitude': [0, 0, 0.15, 0.1, 0.2, 0.25, 0.2, 0, 0.1, 0.15, 0.1, 0, 0.2, 0.3, 0.4, 0.5, 0.6, 0.5, 0.3, 0.25, 0.1]\n",
        "}\n",
        "\n",
        "df_gesund1 = pd.DataFrame(data1)"
      ],
      "metadata": {
        "id": "YGVI_3trUT-i"
      },
      "execution_count": null,
      "outputs": []
    },
    {
      "cell_type": "code",
      "source": [
        "data2 = {\n",
        "    'Frequenz': [100, 105, 110, 115, 120, 125, 130, 135, 140, 145, 150, 155, 160, 165, 170, 175, 180, 185, 190, 195, 200],\n",
        "    'Amplitude': [0, 0, 0.165, 0.11, 0.22, 0.275, 0.22, 0, 0.11, 0.165, 0.11, 0, 0.22, 0.33, 0.44, 0.55, 0.66, 0.55, 0.33, 0.279, 0.11]\n",
        "}\n",
        "df_gesund2 = pd.DataFrame(data2)"
      ],
      "metadata": {
        "id": "TWbf6FANV-yC"
      },
      "execution_count": null,
      "outputs": []
    },
    {
      "cell_type": "code",
      "source": [
        "data3 = {\n",
        "    'Frequenz': [100, 105, 110, 115, 120, 125, 130, 135, 140, 145, 150, 155, 160, 165, 170, 175, 180, 185, 190, 195, 200],\n",
        "    'Amplitude': [0, 0, 0.15, 0.1, 0.1, 0.15, 0, 0, 0.1, 0.15, 0.1, 0, 0.2, 0.3, 0.4, 0.5, 0.6, 0.5, 0.3, 0.25, 0.1]\n",
        "}\n",
        "\n",
        "df_gesund3 = pd.DataFrame(data3)"
      ],
      "metadata": {
        "id": "QIwLEMB68m9i"
      },
      "execution_count": null,
      "outputs": []
    },
    {
      "cell_type": "code",
      "source": [
        "data4 = {\n",
        "    'Frequenz': [100, 105, 110, 115, 120, 125, 130, 135, 140, 145, 150, 155, 160, 165, 170, 175, 180, 185, 190, 195, 200],\n",
        "    'Amplitude': [0, 0.1, 0.2, 0.4, 0.2, 0.15, 0, 0, 0.1, 0.15, 0.1, 0, 0.2, 0.3, 0.4, 0.6, 0.7, 0.5, 0.3, 0.25, 0.1]\n",
        "}\n",
        "\n",
        "df_gesund4 = pd.DataFrame(data4)"
      ],
      "metadata": {
        "id": "x3ZhD4Z98rHJ"
      },
      "execution_count": null,
      "outputs": []
    },
    {
      "cell_type": "code",
      "source": [
        "data5 = {\n",
        "    'Frequenz': [100, 105, 110, 115, 120, 125, 130, 135, 140, 145, 150, 155, 160, 165, 170, 175, 180, 185, 190, 195, 200],\n",
        "    'Amplitude': [0, 0.1, 0.2, 0.4, 0.2, 0.15, 0, 0, 0.1, 0.15, 0.1, 0.2, 0.4, 0.6, 0.7, 0.8, 1, 0.8, 0.6, 0.5, 0.5]\n",
        "}\n",
        "\n",
        "df_gesund5 = pd.DataFrame(data5)"
      ],
      "metadata": {
        "id": "O3iC2DpK8uaQ"
      },
      "execution_count": null,
      "outputs": []
    },
    {
      "cell_type": "code",
      "source": [
        "data6 = {\n",
        "    'Frequenz': [100, 105, 110, 115, 120, 125, 130, 135, 140, 145, 150, 155, 160, 165, 170, 175, 180, 185, 190, 195, 200],\n",
        "    'Amplitude': [0.4, 0.5, 0.6, 0.8, 1, 1, 0.8, 0.6, 0.5, 0.2, 0.1, 0.15, 0.1, 0, 0, 0.15, 0.2, 0.4, 0.2, 0.1, 0]\n",
        "}\n",
        "\n",
        "df_krank1 = pd.DataFrame(data6)"
      ],
      "metadata": {
        "id": "he2_RFOj82Jy"
      },
      "execution_count": null,
      "outputs": []
    },
    {
      "cell_type": "code",
      "source": [
        "data7 = {\n",
        "    'Frequenz': [100, 105, 110, 115, 120, 125, 130, 135, 140, 145, 150, 155, 160, 165, 170, 175, 180, 185, 190, 195, 200],\n",
        "    'Amplitude': [0.4, 0.6, 0.5, 0.4, 0.3, 0.1, 0.2, 0.1, 0.1, 0.1, 0.3, 0.1, 0.15, 0.1, 0, 0, 0.15, 0.2, 0.3, 0.2, 0.1, ]\n",
        "}\n",
        "\n",
        "df_krank2 = pd.DataFrame(data7)"
      ],
      "metadata": {
        "id": "RTY5pjkJ84hL"
      },
      "execution_count": null,
      "outputs": []
    },
    {
      "cell_type": "code",
      "source": [
        "data8 = {\n",
        "    'Frequenz': [100, 105, 110, 115, 120, 125, 130, 135, 140, 145, 150, 155, 160, 165, 170, 175, 180, 185, 190, 195, 200],\n",
        "    'Amplitude': [0.1, 0.6, 0.6, 0.7, 0.5, 0.4, 0.2, 0.1, 0, 0.2, 0.3, 0.2, 0.3, 0.3, 0.1, 0.1, 0.15, 0.2, 0.3, 0.2, 0.1, ]\n",
        "}\n",
        "\n",
        "df_krank3 = pd.DataFrame(data8)"
      ],
      "metadata": {
        "id": "nGwWlL0387o1"
      },
      "execution_count": null,
      "outputs": []
    },
    {
      "cell_type": "code",
      "source": [
        "data9 = {\n",
        "    'Frequenz': [100, 105, 110, 115, 120, 125, 130, 135, 140, 145, 150, 155, 160, 165, 170, 175, 180, 185, 190, 195, 200],\n",
        "    'Amplitude': [0.57, 0.48, 0.61, 0.81, 1.02, 0.83, 0.72, 0.62, 0.41, 0.18, 0.1, 0.145, 0.11, 0.01, 0.03, 0.165, 0.23, 0.39, 0.21, 0.12, 0.02]\n",
        "}\n",
        "\n",
        "df_krank4 = pd.DataFrame(data9)"
      ],
      "metadata": {
        "id": "i4AD7w0b8-4x"
      },
      "execution_count": null,
      "outputs": []
    },
    {
      "cell_type": "code",
      "source": [
        "data10 = {\n",
        "    'Frequenz': [100, 105, 110, 115, 120, 125, 130, 135, 140, 145, 150, 155, 160, 165, 170, 175, 180, 185, 190, 195, 200],\n",
        "    'Amplitude': [0.54, 0.51, 0.63, 0.79, 1.02, 0.81, 0.71, 0.59, 0.39, 0.19, 0.11, 0.17, 0.09, 0, 0.01, 0.145, 0.21, 0.43, 0.22, 0.08, 0.01]\n",
        "}\n",
        "\n",
        "df_krank5 = pd.DataFrame(data10)"
      ],
      "metadata": {
        "id": "bs-zyPsQ9BfE"
      },
      "execution_count": null,
      "outputs": []
    },
    {
      "cell_type": "code",
      "source": [
        "data11 = {\n",
        "    'Frequenz': [100, 105, 110, 115, 120, 125, 130, 135, 140, 145, 150, 155, 160, 165, 170, 175, 180, 185, 190, 195, 200],\n",
        "    'Amplitude': [0.51, 0.5, 0.61, 0.79, 0.8, 0.85, 0.85, 0.64, 0.42, 0.22, 0.09, 0.16, 0.09, 0.01, 0.01, 0.14, 0.22, 0.38, 0.3, 0.2, 0.12]\n",
        "}\n",
        "\n",
        "df_krank6 = pd.DataFrame(data11)"
      ],
      "metadata": {
        "id": "EULfqQYa9E8a"
      },
      "execution_count": null,
      "outputs": []
    },
    {
      "cell_type": "code",
      "source": [
        "# Liniendiagramm erstellen data1\n",
        "plt.figure(figsize=(30, 15))\n",
        "plt.plot(df_gesund1['Frequenz'], df_gesund1['Amplitude'], marker='o', linestyle='-')\n",
        "\n",
        "plt.title('Spektroskopie')\n",
        "plt.xlabel('Frequenz')\n",
        "plt.ylabel('Amplitude')\n",
        "\n",
        "plt.xticks([100, 105, 110, 115, 120, 125, 130, 135, 140, 145, 150, 155, 160, 165, 170, 175, 180, 185, 190, 195, 200], rotation= 45)\n",
        "plt.show;"
      ],
      "metadata": {
        "id": "3RUk5jr_Wfzy"
      },
      "execution_count": null,
      "outputs": []
    },
    {
      "cell_type": "code",
      "source": [
        "# Liniendiagramm erstellen data2\n",
        "plt.figure(figsize=(30, 15))\n",
        "plt.plot(df_gesund2['Frequenz'], df_gesund2['Amplitude'], marker='o', linestyle='-')\n",
        "\n",
        "plt.title('Spektroskopie')\n",
        "plt.xlabel('Frequenz')\n",
        "plt.ylabel('Amplitude')\n",
        "\n",
        "plt.xticks([100, 105, 110, 115, 120, 125, 130, 135, 140, 145, 150, 155, 160, 165, 170, 175, 180, 185, 190, 195, 200], rotation= 45)\n",
        "plt.show;"
      ],
      "metadata": {
        "id": "yuIA7YEA2ywK"
      },
      "execution_count": null,
      "outputs": []
    },
    {
      "cell_type": "code",
      "source": [
        "# Liniendiagramm erstellen data3\n",
        "plt.figure(figsize=(30, 15))\n",
        "plt.plot(df_gesund3['Frequenz'], df_gesund3['Amplitude'], marker='o', linestyle='-')\n",
        "\n",
        "plt.title('Spektroskopie')\n",
        "plt.xlabel('Frequenz')\n",
        "plt.ylabel('Amplitude')\n",
        "\n",
        "plt.xticks([100, 105, 110, 115, 120, 125, 130, 135, 140, 145, 150, 155, 160, 165, 170, 175, 180, 185, 190, 195, 200], rotation= 45)\n",
        "plt.show;"
      ],
      "metadata": {
        "id": "uDmcRfIj3N_O"
      },
      "execution_count": null,
      "outputs": []
    },
    {
      "cell_type": "code",
      "source": [
        "# Liniendiagramm erstellen data4\n",
        "plt.figure(figsize=(30, 15))\n",
        "plt.plot(df_gesund4['Frequenz'], df_gesund4['Amplitude'], marker='o', linestyle='-')\n",
        "\n",
        "plt.title('Spektroskopie')\n",
        "plt.xlabel('Frequenz')\n",
        "plt.ylabel('Amplitude')\n",
        "\n",
        "plt.xticks([100, 105, 110, 115, 120, 125, 130, 135, 140, 145, 150, 155, 160, 165, 170, 175, 180, 185, 190, 195, 200], rotation= 45)\n",
        "plt.show;"
      ],
      "metadata": {
        "id": "Cs3LQ9Iy30Am"
      },
      "execution_count": null,
      "outputs": []
    },
    {
      "cell_type": "code",
      "source": [
        "# Liniendiagramm erstellen data5\n",
        "plt.figure(figsize=(30, 15))\n",
        "plt.plot(df_gesund5['Frequenz'], df_gesund5['Amplitude'], marker='o', linestyle='-')\n",
        "\n",
        "plt.title('Spektroskopie')\n",
        "plt.xlabel('Frequenz')\n",
        "plt.ylabel('Amplitude')\n",
        "\n",
        "plt.xticks([100, 105, 110, 115, 120, 125, 130, 135, 140, 145, 150, 155, 160, 165, 170, 175, 180, 185, 190, 195, 200], rotation= 45)\n",
        "plt.show;"
      ],
      "metadata": {
        "id": "7gdnwAou4QPz"
      },
      "execution_count": null,
      "outputs": []
    },
    {
      "cell_type": "code",
      "source": [
        "# Liniendiagramm erstellen data6\n",
        "plt.figure(figsize=(30, 15))\n",
        "plt.plot(df_krank1['Frequenz'], df_krank1['Amplitude'], marker='o', linestyle='-')\n",
        "\n",
        "plt.title('Spektroskopie')\n",
        "plt.xlabel('Frequenz')\n",
        "plt.ylabel('Amplitude')\n",
        "\n",
        "plt.xticks([100, 105, 110, 115, 120, 125, 130, 135, 140, 145, 150, 155, 160, 165, 170, 175, 180, 185, 190, 195, 200], rotation= 45)\n",
        "plt.show;"
      ],
      "metadata": {
        "id": "fTgWzFLq416U"
      },
      "execution_count": null,
      "outputs": []
    },
    {
      "cell_type": "code",
      "source": [
        "# Liniendiagramm erstellen data7\n",
        "plt.figure(figsize=(30, 15))\n",
        "plt.plot(df_krank2['Frequenz'], df_krank2['Amplitude'], marker='o', linestyle='-')\n",
        "\n",
        "plt.title('Spektroskopie')\n",
        "plt.xlabel('Frequenz')\n",
        "plt.ylabel('Amplitude')\n",
        "\n",
        "plt.xticks([100, 105, 110, 115, 120, 125, 130, 135, 140, 145, 150, 155, 160, 165, 170, 175, 180, 185, 190, 195, 200], rotation= 45)\n",
        "plt.show;"
      ],
      "metadata": {
        "id": "AOUek_s25okH"
      },
      "execution_count": null,
      "outputs": []
    },
    {
      "cell_type": "code",
      "source": [
        "# Liniendiagramm erstellen data8\n",
        "plt.figure(figsize=(30, 15))\n",
        "plt.plot(df_krank3['Frequenz'], df_krank3['Amplitude'], marker='o', linestyle='-')\n",
        "\n",
        "plt.title('Spektroskopie')\n",
        "plt.xlabel('Frequenz')\n",
        "plt.ylabel('Amplitude')\n",
        "\n",
        "plt.xticks([100, 105, 110, 115, 120, 125, 130, 135, 140, 145, 150, 155, 160, 165, 170, 175, 180, 185, 190, 195, 200], rotation= 45)\n",
        "plt.show;"
      ],
      "metadata": {
        "id": "CMZhf2JH6JGo"
      },
      "execution_count": null,
      "outputs": []
    },
    {
      "cell_type": "code",
      "source": [
        "# Liniendiagramm erstellen data9\n",
        "plt.figure(figsize=(30, 15))\n",
        "plt.plot(df_krank4['Frequenz'], df_krank4['Amplitude'], marker='o', linestyle='-')\n",
        "\n",
        "plt.title('Spektroskopie')\n",
        "plt.xlabel('Frequenz')\n",
        "plt.ylabel('Amplitude')\n",
        "\n",
        "plt.xticks([100, 105, 110, 115, 120, 125, 130, 135, 140, 145, 150, 155, 160, 165, 170, 175, 180, 185, 190, 195, 200], rotation= 45)\n",
        "plt.show;"
      ],
      "metadata": {
        "id": "UFhEtfiW8ukf"
      },
      "execution_count": null,
      "outputs": []
    },
    {
      "cell_type": "code",
      "source": [
        "# Liniendiagramm erstellen data10\n",
        "plt.figure(figsize=(30, 15))\n",
        "plt.plot(df_krank5['Frequenz'], df_krank5['Amplitude'], marker='o', linestyle='-')\n",
        "\n",
        "plt.title('Spektroskopie')\n",
        "plt.xlabel('Frequenz')\n",
        "plt.ylabel('Amplitude')\n",
        "\n",
        "plt.xticks([100, 105, 110, 115, 120, 125, 130, 135, 140, 145, 150, 155, 160, 165, 170, 175, 180, 185, 190, 195, 200], rotation= 45)\n",
        "plt.show;"
      ],
      "metadata": {
        "id": "nEpLt7h186jb"
      },
      "execution_count": null,
      "outputs": []
    },
    {
      "cell_type": "code",
      "source": [
        "# Liniendiagramm erstellen data11\n",
        "plt.figure(figsize=(30, 15))\n",
        "plt.plot(df_krank6['Frequenz'], df_krank6['Amplitude'], marker='o', linestyle='-')\n",
        "\n",
        "plt.title('Spektroskopie')\n",
        "plt.xlabel('Frequenz')\n",
        "plt.ylabel('Amplitude')\n",
        "\n",
        "plt.xticks([100, 105, 110, 115, 120, 125, 130, 135, 140, 145, 150, 155, 160, 165, 170, 175, 180, 185, 190, 195, 200], rotation= 45)\n",
        "plt.show;"
      ],
      "metadata": {
        "id": "y_WwpvTv9NZq"
      },
      "execution_count": null,
      "outputs": []
    },
    {
      "cell_type": "code",
      "source": [
        "#Das sind die Ergebnisse die benötigt werden zu jedem Datensatz.\n",
        "ergebnisse = {\n",
        "    'Krankheitszustand': [1, 1, 1, 1, 1, 0, 0, 0, 0, 0, 0]\n",
        "}\n",
        "\n",
        "df_krankheitszustand = pd.DataFrame(ergebnisse)"
      ],
      "metadata": {
        "id": "7WerXrMX2fE7"
      },
      "execution_count": null,
      "outputs": []
    }
  ]
}